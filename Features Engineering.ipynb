{
  "nbformat": 4,
  "nbformat_minor": 0,
  "metadata": {
    "colab": {
      "provenance": []
    },
    "kernelspec": {
      "name": "python3",
      "display_name": "Python 3"
    },
    "language_info": {
      "name": "python"
    }
  },
  "cells": [
    {
      "cell_type": "markdown",
      "metadata": {
        "id": "hgPHoN5-smt7"
      },
      "source": [
        "#Features Engineering"
      ]
    },
    {
      "cell_type": "markdown",
      "metadata": {
        "id": "aTzQMwGcsv4H"
      },
      "source": [
        "##Age Group"
      ]
    },
    {
      "cell_type": "code",
      "execution_count": 54,
      "metadata": {
        "id": "FwSxNiY6s2-D"
      },
      "outputs": [],
      "source": [
        "df_temp['age_group'] = pd.cut(df_temp['age'], bins=[0, 18, 25, 35, 45, 55, 65, 100], labels=['<18', '18-25', '26-35', '36-45', '46-55', '56-65', '>65'])"
      ]
    },
    {
      "cell_type": "markdown",
      "metadata": {
        "id": "NCXQrEJ-syM_"
      },
      "source": [
        "##Membership Duration"
      ]
    },
    {
      "cell_type": "code",
      "execution_count": 52,
      "metadata": {
        "id": "cdquHfu2s7Z6"
      },
      "outputs": [],
      "source": [
        "#durasi max dari paling current membership_date\n",
        "df_temp['membership_duration'] = (df_temp['membership_date'].max() - df_temp['membership_date']).dt.days"
      ]
    },
    {
      "cell_type": "markdown",
      "metadata": {
        "id": "BH_ACi8Ds8HQ"
      },
      "source": [
        "##City"
      ]
    },
    {
      "cell_type": "code",
      "execution_count": 55,
      "metadata": {
        "id": "L-k2kRLcs-0R"
      },
      "outputs": [],
      "source": [
        "df_temp['city'] = df_temp['full_address'].apply(lambda x: x.split(',')[1].strip())"
      ]
    },
    {
      "cell_type": "markdown",
      "metadata": {
        "id": "W-ZtO7uItVfV"
      },
      "source": [
        "##State"
      ]
    },
    {
      "cell_type": "code",
      "execution_count": 56,
      "metadata": {
        "id": "YSQZA5H2tZLB"
      },
      "outputs": [],
      "source": [
        "df_temp['State'] = df_temp['full_address'].apply(lambda x: x.split(',')[2].strip())"
      ]
    },
    {
      "cell_type": "markdown",
      "metadata": {
        "id": "Ioh8ZFYKtZ0J"
      },
      "source": [
        "##Membership Month"
      ]
    },
    {
      "cell_type": "code",
      "execution_count": 57,
      "metadata": {
        "id": "7h9AfjKdtgZr"
      },
      "outputs": [],
      "source": [
        "df_temp['membership_month'] = df_temp['membership_date'].dt.month"
      ]
    },
    {
      "cell_type": "markdown",
      "metadata": {
        "id": "CHbpiWu-11sE"
      },
      "source": [
        "##Membership Year"
      ]
    },
    {
      "cell_type": "code",
      "execution_count": 58,
      "metadata": {
        "id": "2FaS5P7Z11Dt"
      },
      "outputs": [],
      "source": [
        "df_temp['membership_year'] = df_temp['membership_date'].dt.year"
      ]
    },
    {
      "cell_type": "markdown",
      "metadata": {
        "id": "87J8hPB7thK2"
      },
      "source": [
        "##Is Married"
      ]
    },
    {
      "cell_type": "code",
      "execution_count": 59,
      "metadata": {
        "id": "0EuCSqvxxfgS"
      },
      "outputs": [],
      "source": [
        "df_temp['is_married'] = df_temp['martial_status'].apply(lambda x: 1 if x.lower() == 'married' else 0)"
      ]
    }
  ]
}
