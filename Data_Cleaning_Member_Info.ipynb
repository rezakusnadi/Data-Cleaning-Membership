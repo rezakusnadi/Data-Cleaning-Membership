{
  "cells": [
    {
      "cell_type": "markdown",
      "metadata": {
        "id": "xqK3Ma1L3qkb"
      },
      "source": [
        "#Library"
      ]
    },
    {
      "cell_type": "code",
      "execution_count": null,
      "metadata": {
        "id": "DIbGEci6gWtY"
      },
      "outputs": [],
      "source": [
        "import pandas as pd\n",
        "import numpy as np\n",
        "from sklearn.preprocessing import StandardScaler, LabelEncoder\n",
        "from sklearn.impute import SimpleImputer\n",
        "!pip install pyjanitor\n",
        "import janitor\n",
        "import missingno as msno\n",
        "import re"
      ]
    },
    {
      "cell_type": "code",
      "execution_count": null,
      "metadata": {
        "id": "MJeRovpXAm0z",
        "collapsed": true
      },
      "outputs": [],
      "source": [
        "import matplotlib.pyplot as plt\n",
        "import seaborn as sns"
      ]
    },
    {
      "cell_type": "code",
      "execution_count": null,
      "metadata": {
        "id": "XgDZsZ4RJCLp"
      },
      "outputs": [],
      "source": [
        "from sklearn.impute import KNNImputer\n",
        "from sklearn.compose import ColumnTransformer, make_column_selector"
      ]
    },
    {
      "cell_type": "markdown",
      "metadata": {
        "id": "29lN915D3_pc"
      },
      "source": [
        "#DataFrame Read"
      ]
    },
    {
      "cell_type": "code",
      "execution_count": null,
      "metadata": {
        "id": "eJYYYiOqxT1m"
      },
      "outputs": [],
      "source": [
        "from google.colab import drive\n",
        "drive.mount('/content/gdrive')"
      ]
    },
    {
      "cell_type": "code",
      "execution_count": null,
      "metadata": {
        "colab": {
          "base_uri": "https://localhost:8080/"
        },
        "id": "ej8rQ323zWj5",
        "outputId": "e88850de-e6a2-417a-8ee5-4184c29c5978"
      },
      "outputs": [
        {
          "output_type": "stream",
          "name": "stdout",
          "text": [
            "/content/gdrive/MyDrive/DatasetFrame/Club Member Info\n"
          ]
        },
        {
          "output_type": "stream",
          "name": "stderr",
          "text": [
            "/usr/local/lib/python3.10/dist-packages/ipykernel/ipkernel.py:283: DeprecationWarning: `should_run_async` will not call `transform_cell` automatically in the future. Please pass the result to `transformed_cell` argument and any exception that happen during thetransform in `preprocessing_exc_tuple` in IPython 7.17 and above.\n",
            "  and should_run_async(code)\n"
          ]
        }
      ],
      "source": [
        "%cd /content/gdrive/MyDrive/DatasetFrame/Club Member Info/"
      ]
    },
    {
      "cell_type": "code",
      "execution_count": null,
      "metadata": {
        "colab": {
          "base_uri": "https://localhost:8080/"
        },
        "collapsed": true,
        "id": "plom3fQyqPGh",
        "outputId": "47be9cb0-db46-4edd-d62d-d60b1c710b85"
      },
      "outputs": [
        {
          "output_type": "stream",
          "name": "stderr",
          "text": [
            "/usr/local/lib/python3.10/dist-packages/ipykernel/ipkernel.py:283: DeprecationWarning: `should_run_async` will not call `transform_cell` automatically in the future. Please pass the result to `transformed_cell` argument and any exception that happen during thetransform in `preprocessing_exc_tuple` in IPython 7.17 and above.\n",
            "  and should_run_async(code)\n"
          ]
        },
        {
          "output_type": "execute_result",
          "data": {
            "text/plain": [
              "                 full_name    age martial_status                    email  \\\n",
              "0               addie lush   40.0        married    alush0@shutterfly.com   \n",
              "1             ROCK CRADICK   46.0        married   rcradick1@newsvine.com   \n",
              "2        ???Sydel Sharvell   46.0       divorced  ssharvell2@amazon.co.jp   \n",
              "3    Constantin de la cruz   35.0            NaN        co3@bloglines.com   \n",
              "4           Gaylor Redhole   38.0        married   gredhole4@japanpost.jp   \n",
              "..                     ...    ...            ...                      ...   \n",
              "123          ???Mord Nagle   32.0         single   mnagle3f@earthlink.net   \n",
              "124        Artair Pieracci   40.0        married    apieracci3g@wired.com   \n",
              "125     cinderella coleiro   30.0       divorced  ccoleiro3h@buzzfeed.com   \n",
              "126              Jori Sanz  399.0        married        jsanz3i@google.cn   \n",
              "127           Tanya Elrick   35.0        married        telrick3j@umn.edu   \n",
              "\n",
              "            phone                                  full_address  \\\n",
              "0    254-389-8708               3226 Eastlawn Pass,Temple,Texas   \n",
              "1    910-566-2007  4 Harbort Avenue,Fayetteville,North Carolina   \n",
              "2    702-187-8715               4 School Place,Las Vegas,Nevada   \n",
              "3    402-688-7162            6 Monument Crossing,Omaha,Nebraska   \n",
              "4    917-394-6001       88 Cherokee Pass,New York City,New York   \n",
              "..            ...                                           ...   \n",
              "123  405-816-7771        74 Hanover Park,Oklahoma City,Oklahoma   \n",
              "124  410-469-0460         3 Red Cloud Street,Baltimore,Maryland   \n",
              "125  949-688-7325         19756 Thierer Court,Irvine,California   \n",
              "126  904-906-7537         99 West Crossing,Jacksonville,Florida   \n",
              "127  702-261-6734        536 Rockefeller Court,Las Vegas,Nevada   \n",
              "\n",
              "                       job_title membership_date  \n",
              "0            Assistant Professor       7/31/2013  \n",
              "1                 Programmer III       5/27/2018  \n",
              "2    Budget/Accounting Analyst I       10/6/2017  \n",
              "3     Desktop Support Technician      10/20/2015  \n",
              "4                Legal Assistant       5/29/2019  \n",
              "..                           ...             ...  \n",
              "123            Director of Sales        2/6/2014  \n",
              "124                       Editor       9/12/2013  \n",
              "125                        Nurse       7/28/2018  \n",
              "126                    Professor       2/15/2012  \n",
              "127             Dental Hygienist       7/29/2014  \n",
              "\n",
              "[128 rows x 8 columns]"
            ],
            "text/html": [
              "\n",
              "  <div id=\"df-2196299d-8c52-4c72-bb02-4983654e317f\" class=\"colab-df-container\">\n",
              "    <div>\n",
              "<style scoped>\n",
              "    .dataframe tbody tr th:only-of-type {\n",
              "        vertical-align: middle;\n",
              "    }\n",
              "\n",
              "    .dataframe tbody tr th {\n",
              "        vertical-align: top;\n",
              "    }\n",
              "\n",
              "    .dataframe thead th {\n",
              "        text-align: right;\n",
              "    }\n",
              "</style>\n",
              "<table border=\"1\" class=\"dataframe\">\n",
              "  <thead>\n",
              "    <tr style=\"text-align: right;\">\n",
              "      <th></th>\n",
              "      <th>full_name</th>\n",
              "      <th>age</th>\n",
              "      <th>martial_status</th>\n",
              "      <th>email</th>\n",
              "      <th>phone</th>\n",
              "      <th>full_address</th>\n",
              "      <th>job_title</th>\n",
              "      <th>membership_date</th>\n",
              "    </tr>\n",
              "  </thead>\n",
              "  <tbody>\n",
              "    <tr>\n",
              "      <th>0</th>\n",
              "      <td>addie lush</td>\n",
              "      <td>40.0</td>\n",
              "      <td>married</td>\n",
              "      <td>alush0@shutterfly.com</td>\n",
              "      <td>254-389-8708</td>\n",
              "      <td>3226 Eastlawn Pass,Temple,Texas</td>\n",
              "      <td>Assistant Professor</td>\n",
              "      <td>7/31/2013</td>\n",
              "    </tr>\n",
              "    <tr>\n",
              "      <th>1</th>\n",
              "      <td>ROCK CRADICK</td>\n",
              "      <td>46.0</td>\n",
              "      <td>married</td>\n",
              "      <td>rcradick1@newsvine.com</td>\n",
              "      <td>910-566-2007</td>\n",
              "      <td>4 Harbort Avenue,Fayetteville,North Carolina</td>\n",
              "      <td>Programmer III</td>\n",
              "      <td>5/27/2018</td>\n",
              "    </tr>\n",
              "    <tr>\n",
              "      <th>2</th>\n",
              "      <td>???Sydel Sharvell</td>\n",
              "      <td>46.0</td>\n",
              "      <td>divorced</td>\n",
              "      <td>ssharvell2@amazon.co.jp</td>\n",
              "      <td>702-187-8715</td>\n",
              "      <td>4 School Place,Las Vegas,Nevada</td>\n",
              "      <td>Budget/Accounting Analyst I</td>\n",
              "      <td>10/6/2017</td>\n",
              "    </tr>\n",
              "    <tr>\n",
              "      <th>3</th>\n",
              "      <td>Constantin de la cruz</td>\n",
              "      <td>35.0</td>\n",
              "      <td>NaN</td>\n",
              "      <td>co3@bloglines.com</td>\n",
              "      <td>402-688-7162</td>\n",
              "      <td>6 Monument Crossing,Omaha,Nebraska</td>\n",
              "      <td>Desktop Support Technician</td>\n",
              "      <td>10/20/2015</td>\n",
              "    </tr>\n",
              "    <tr>\n",
              "      <th>4</th>\n",
              "      <td>Gaylor Redhole</td>\n",
              "      <td>38.0</td>\n",
              "      <td>married</td>\n",
              "      <td>gredhole4@japanpost.jp</td>\n",
              "      <td>917-394-6001</td>\n",
              "      <td>88 Cherokee Pass,New York City,New York</td>\n",
              "      <td>Legal Assistant</td>\n",
              "      <td>5/29/2019</td>\n",
              "    </tr>\n",
              "    <tr>\n",
              "      <th>...</th>\n",
              "      <td>...</td>\n",
              "      <td>...</td>\n",
              "      <td>...</td>\n",
              "      <td>...</td>\n",
              "      <td>...</td>\n",
              "      <td>...</td>\n",
              "      <td>...</td>\n",
              "      <td>...</td>\n",
              "    </tr>\n",
              "    <tr>\n",
              "      <th>123</th>\n",
              "      <td>???Mord Nagle</td>\n",
              "      <td>32.0</td>\n",
              "      <td>single</td>\n",
              "      <td>mnagle3f@earthlink.net</td>\n",
              "      <td>405-816-7771</td>\n",
              "      <td>74 Hanover Park,Oklahoma City,Oklahoma</td>\n",
              "      <td>Director of Sales</td>\n",
              "      <td>2/6/2014</td>\n",
              "    </tr>\n",
              "    <tr>\n",
              "      <th>124</th>\n",
              "      <td>Artair Pieracci</td>\n",
              "      <td>40.0</td>\n",
              "      <td>married</td>\n",
              "      <td>apieracci3g@wired.com</td>\n",
              "      <td>410-469-0460</td>\n",
              "      <td>3 Red Cloud Street,Baltimore,Maryland</td>\n",
              "      <td>Editor</td>\n",
              "      <td>9/12/2013</td>\n",
              "    </tr>\n",
              "    <tr>\n",
              "      <th>125</th>\n",
              "      <td>cinderella coleiro</td>\n",
              "      <td>30.0</td>\n",
              "      <td>divorced</td>\n",
              "      <td>ccoleiro3h@buzzfeed.com</td>\n",
              "      <td>949-688-7325</td>\n",
              "      <td>19756 Thierer Court,Irvine,California</td>\n",
              "      <td>Nurse</td>\n",
              "      <td>7/28/2018</td>\n",
              "    </tr>\n",
              "    <tr>\n",
              "      <th>126</th>\n",
              "      <td>Jori Sanz</td>\n",
              "      <td>399.0</td>\n",
              "      <td>married</td>\n",
              "      <td>jsanz3i@google.cn</td>\n",
              "      <td>904-906-7537</td>\n",
              "      <td>99 West Crossing,Jacksonville,Florida</td>\n",
              "      <td>Professor</td>\n",
              "      <td>2/15/2012</td>\n",
              "    </tr>\n",
              "    <tr>\n",
              "      <th>127</th>\n",
              "      <td>Tanya Elrick</td>\n",
              "      <td>35.0</td>\n",
              "      <td>married</td>\n",
              "      <td>telrick3j@umn.edu</td>\n",
              "      <td>702-261-6734</td>\n",
              "      <td>536 Rockefeller Court,Las Vegas,Nevada</td>\n",
              "      <td>Dental Hygienist</td>\n",
              "      <td>7/29/2014</td>\n",
              "    </tr>\n",
              "  </tbody>\n",
              "</table>\n",
              "<p>128 rows × 8 columns</p>\n",
              "</div>\n",
              "    <div class=\"colab-df-buttons\">\n",
              "\n",
              "  <div class=\"colab-df-container\">\n",
              "    <button class=\"colab-df-convert\" onclick=\"convertToInteractive('df-2196299d-8c52-4c72-bb02-4983654e317f')\"\n",
              "            title=\"Convert this dataframe to an interactive table.\"\n",
              "            style=\"display:none;\">\n",
              "\n",
              "  <svg xmlns=\"http://www.w3.org/2000/svg\" height=\"24px\" viewBox=\"0 -960 960 960\">\n",
              "    <path d=\"M120-120v-720h720v720H120Zm60-500h600v-160H180v160Zm220 220h160v-160H400v160Zm0 220h160v-160H400v160ZM180-400h160v-160H180v160Zm440 0h160v-160H620v160ZM180-180h160v-160H180v160Zm440 0h160v-160H620v160Z\"/>\n",
              "  </svg>\n",
              "    </button>\n",
              "\n",
              "  <style>\n",
              "    .colab-df-container {\n",
              "      display:flex;\n",
              "      gap: 12px;\n",
              "    }\n",
              "\n",
              "    .colab-df-convert {\n",
              "      background-color: #E8F0FE;\n",
              "      border: none;\n",
              "      border-radius: 50%;\n",
              "      cursor: pointer;\n",
              "      display: none;\n",
              "      fill: #1967D2;\n",
              "      height: 32px;\n",
              "      padding: 0 0 0 0;\n",
              "      width: 32px;\n",
              "    }\n",
              "\n",
              "    .colab-df-convert:hover {\n",
              "      background-color: #E2EBFA;\n",
              "      box-shadow: 0px 1px 2px rgba(60, 64, 67, 0.3), 0px 1px 3px 1px rgba(60, 64, 67, 0.15);\n",
              "      fill: #174EA6;\n",
              "    }\n",
              "\n",
              "    .colab-df-buttons div {\n",
              "      margin-bottom: 4px;\n",
              "    }\n",
              "\n",
              "    [theme=dark] .colab-df-convert {\n",
              "      background-color: #3B4455;\n",
              "      fill: #D2E3FC;\n",
              "    }\n",
              "\n",
              "    [theme=dark] .colab-df-convert:hover {\n",
              "      background-color: #434B5C;\n",
              "      box-shadow: 0px 1px 3px 1px rgba(0, 0, 0, 0.15);\n",
              "      filter: drop-shadow(0px 1px 2px rgba(0, 0, 0, 0.3));\n",
              "      fill: #FFFFFF;\n",
              "    }\n",
              "  </style>\n",
              "\n",
              "    <script>\n",
              "      const buttonEl =\n",
              "        document.querySelector('#df-2196299d-8c52-4c72-bb02-4983654e317f button.colab-df-convert');\n",
              "      buttonEl.style.display =\n",
              "        google.colab.kernel.accessAllowed ? 'block' : 'none';\n",
              "\n",
              "      async function convertToInteractive(key) {\n",
              "        const element = document.querySelector('#df-2196299d-8c52-4c72-bb02-4983654e317f');\n",
              "        const dataTable =\n",
              "          await google.colab.kernel.invokeFunction('convertToInteractive',\n",
              "                                                    [key], {});\n",
              "        if (!dataTable) return;\n",
              "\n",
              "        const docLinkHtml = 'Like what you see? Visit the ' +\n",
              "          '<a target=\"_blank\" href=https://colab.research.google.com/notebooks/data_table.ipynb>data table notebook</a>'\n",
              "          + ' to learn more about interactive tables.';\n",
              "        element.innerHTML = '';\n",
              "        dataTable['output_type'] = 'display_data';\n",
              "        await google.colab.output.renderOutput(dataTable, element);\n",
              "        const docLink = document.createElement('div');\n",
              "        docLink.innerHTML = docLinkHtml;\n",
              "        element.appendChild(docLink);\n",
              "      }\n",
              "    </script>\n",
              "  </div>\n",
              "\n",
              "\n",
              "<div id=\"df-80092afa-1e69-45c6-ac45-8f902b065ba5\">\n",
              "  <button class=\"colab-df-quickchart\" onclick=\"quickchart('df-80092afa-1e69-45c6-ac45-8f902b065ba5')\"\n",
              "            title=\"Suggest charts\"\n",
              "            style=\"display:none;\">\n",
              "\n",
              "<svg xmlns=\"http://www.w3.org/2000/svg\" height=\"24px\"viewBox=\"0 0 24 24\"\n",
              "     width=\"24px\">\n",
              "    <g>\n",
              "        <path d=\"M19 3H5c-1.1 0-2 .9-2 2v14c0 1.1.9 2 2 2h14c1.1 0 2-.9 2-2V5c0-1.1-.9-2-2-2zM9 17H7v-7h2v7zm4 0h-2V7h2v10zm4 0h-2v-4h2v4z\"/>\n",
              "    </g>\n",
              "</svg>\n",
              "  </button>\n",
              "\n",
              "<style>\n",
              "  .colab-df-quickchart {\n",
              "      --bg-color: #E8F0FE;\n",
              "      --fill-color: #1967D2;\n",
              "      --hover-bg-color: #E2EBFA;\n",
              "      --hover-fill-color: #174EA6;\n",
              "      --disabled-fill-color: #AAA;\n",
              "      --disabled-bg-color: #DDD;\n",
              "  }\n",
              "\n",
              "  [theme=dark] .colab-df-quickchart {\n",
              "      --bg-color: #3B4455;\n",
              "      --fill-color: #D2E3FC;\n",
              "      --hover-bg-color: #434B5C;\n",
              "      --hover-fill-color: #FFFFFF;\n",
              "      --disabled-bg-color: #3B4455;\n",
              "      --disabled-fill-color: #666;\n",
              "  }\n",
              "\n",
              "  .colab-df-quickchart {\n",
              "    background-color: var(--bg-color);\n",
              "    border: none;\n",
              "    border-radius: 50%;\n",
              "    cursor: pointer;\n",
              "    display: none;\n",
              "    fill: var(--fill-color);\n",
              "    height: 32px;\n",
              "    padding: 0;\n",
              "    width: 32px;\n",
              "  }\n",
              "\n",
              "  .colab-df-quickchart:hover {\n",
              "    background-color: var(--hover-bg-color);\n",
              "    box-shadow: 0 1px 2px rgba(60, 64, 67, 0.3), 0 1px 3px 1px rgba(60, 64, 67, 0.15);\n",
              "    fill: var(--button-hover-fill-color);\n",
              "  }\n",
              "\n",
              "  .colab-df-quickchart-complete:disabled,\n",
              "  .colab-df-quickchart-complete:disabled:hover {\n",
              "    background-color: var(--disabled-bg-color);\n",
              "    fill: var(--disabled-fill-color);\n",
              "    box-shadow: none;\n",
              "  }\n",
              "\n",
              "  .colab-df-spinner {\n",
              "    border: 2px solid var(--fill-color);\n",
              "    border-color: transparent;\n",
              "    border-bottom-color: var(--fill-color);\n",
              "    animation:\n",
              "      spin 1s steps(1) infinite;\n",
              "  }\n",
              "\n",
              "  @keyframes spin {\n",
              "    0% {\n",
              "      border-color: transparent;\n",
              "      border-bottom-color: var(--fill-color);\n",
              "      border-left-color: var(--fill-color);\n",
              "    }\n",
              "    20% {\n",
              "      border-color: transparent;\n",
              "      border-left-color: var(--fill-color);\n",
              "      border-top-color: var(--fill-color);\n",
              "    }\n",
              "    30% {\n",
              "      border-color: transparent;\n",
              "      border-left-color: var(--fill-color);\n",
              "      border-top-color: var(--fill-color);\n",
              "      border-right-color: var(--fill-color);\n",
              "    }\n",
              "    40% {\n",
              "      border-color: transparent;\n",
              "      border-right-color: var(--fill-color);\n",
              "      border-top-color: var(--fill-color);\n",
              "    }\n",
              "    60% {\n",
              "      border-color: transparent;\n",
              "      border-right-color: var(--fill-color);\n",
              "    }\n",
              "    80% {\n",
              "      border-color: transparent;\n",
              "      border-right-color: var(--fill-color);\n",
              "      border-bottom-color: var(--fill-color);\n",
              "    }\n",
              "    90% {\n",
              "      border-color: transparent;\n",
              "      border-bottom-color: var(--fill-color);\n",
              "    }\n",
              "  }\n",
              "</style>\n",
              "\n",
              "  <script>\n",
              "    async function quickchart(key) {\n",
              "      const quickchartButtonEl =\n",
              "        document.querySelector('#' + key + ' button');\n",
              "      quickchartButtonEl.disabled = true;  // To prevent multiple clicks.\n",
              "      quickchartButtonEl.classList.add('colab-df-spinner');\n",
              "      try {\n",
              "        const charts = await google.colab.kernel.invokeFunction(\n",
              "            'suggestCharts', [key], {});\n",
              "      } catch (error) {\n",
              "        console.error('Error during call to suggestCharts:', error);\n",
              "      }\n",
              "      quickchartButtonEl.classList.remove('colab-df-spinner');\n",
              "      quickchartButtonEl.classList.add('colab-df-quickchart-complete');\n",
              "    }\n",
              "    (() => {\n",
              "      let quickchartButtonEl =\n",
              "        document.querySelector('#df-80092afa-1e69-45c6-ac45-8f902b065ba5 button');\n",
              "      quickchartButtonEl.style.display =\n",
              "        google.colab.kernel.accessAllowed ? 'block' : 'none';\n",
              "    })();\n",
              "  </script>\n",
              "</div>\n",
              "\n",
              "    </div>\n",
              "  </div>\n"
            ],
            "application/vnd.google.colaboratory.intrinsic+json": {
              "type": "dataframe",
              "variable_name": "df",
              "summary": "{\n  \"name\": \"df\",\n  \"rows\": 2010,\n  \"fields\": [\n    {\n      \"column\": \"full_name\",\n      \"properties\": {\n        \"dtype\": \"string\",\n        \"num_unique_values\": 2000,\n        \"samples\": [\n          \"AMII YUKHIN\",\n          \"   Kahlil Haskayne\",\n          \"Sal Rhys\"\n        ],\n        \"semantic_type\": \"\",\n        \"description\": \"\"\n      }\n    },\n    {\n      \"column\": \"age\",\n      \"properties\": {\n        \"dtype\": \"number\",\n        \"std\": 41.49819052850987,\n        \"min\": 18.0,\n        \"max\": 677.0,\n        \"num_unique_values\": 66,\n        \"samples\": [\n          57.0,\n          644.0,\n          40.0\n        ],\n        \"semantic_type\": \"\",\n        \"description\": \"\"\n      }\n    },\n    {\n      \"column\": \"martial_status\",\n      \"properties\": {\n        \"dtype\": \"category\",\n        \"num_unique_values\": 5,\n        \"samples\": [\n          \"divorced\",\n          \"divored\",\n          \"single\"\n        ],\n        \"semantic_type\": \"\",\n        \"description\": \"\"\n      }\n    },\n    {\n      \"column\": \"email\",\n      \"properties\": {\n        \"dtype\": \"string\",\n        \"num_unique_values\": 2000,\n        \"samples\": [\n          \"ayukhinnv@slideshare.net\",\n          \"khaskayne9t@house.gov\",\n          \"srhys99@tamu.edu\"\n        ],\n        \"semantic_type\": \"\",\n        \"description\": \"\"\n      }\n    },\n    {\n      \"column\": \"phone\",\n      \"properties\": {\n        \"dtype\": \"string\",\n        \"num_unique_values\": 1991,\n        \"samples\": [\n          \"512-496-0020\",\n          \"480-550-2893\",\n          \"513-389-5684\"\n        ],\n        \"semantic_type\": \"\",\n        \"description\": \"\"\n      }\n    },\n    {\n      \"column\": \"full_address\",\n      \"properties\": {\n        \"dtype\": \"string\",\n        \"num_unique_values\": 1995,\n        \"samples\": [\n          \"4226 International Street,Salt Lake City,Utah\",\n          \"33111 3rd Circle,Washington,District of Columbia\",\n          \"9765 Daystar Trail,Cincinnati,Ohio\"\n        ],\n        \"semantic_type\": \"\",\n        \"description\": \"\"\n      }\n    },\n    {\n      \"column\": \"job_title\",\n      \"properties\": {\n        \"dtype\": \"category\",\n        \"num_unique_values\": 195,\n        \"samples\": [\n          \"Health Coach III\",\n          \"Senior Financial Analyst\",\n          \"Account Representative II\"\n        ],\n        \"semantic_type\": \"\",\n        \"description\": \"\"\n      }\n    },\n    {\n      \"column\": \"membership_date\",\n      \"properties\": {\n        \"dtype\": \"object\",\n        \"num_unique_values\": 1536,\n        \"samples\": [\n          \"5/16/2019\",\n          \"7/23/2019\",\n          \"6/22/2018\"\n        ],\n        \"semantic_type\": \"\",\n        \"description\": \"\"\n      }\n    }\n  ]\n}"
            }
          },
          "metadata": {},
          "execution_count": 10
        }
      ],
      "source": [
        "df = pd.read_csv('club_member_info.csv',encoding ='latin')\n",
        "df.head(128)"
      ]
    },
    {
      "cell_type": "markdown",
      "metadata": {
        "id": "t_9d0JS0142t"
      },
      "source": [
        "#DataFrame Info"
      ]
    },
    {
      "cell_type": "code",
      "execution_count": null,
      "metadata": {
        "colab": {
          "base_uri": "https://localhost:8080/"
        },
        "id": "QsSv9-UQqoJC",
        "outputId": "dddb54fa-a0e7-45fa-c0a8-43f3bd8c018a"
      },
      "outputs": [
        {
          "output_type": "stream",
          "name": "stdout",
          "text": [
            "<class 'pandas.core.frame.DataFrame'>\n",
            "RangeIndex: 2010 entries, 0 to 2009\n",
            "Data columns (total 8 columns):\n",
            " #   Column           Non-Null Count  Dtype  \n",
            "---  ------           --------------  -----  \n",
            " 0   full_name        2010 non-null   object \n",
            " 1   age              2007 non-null   float64\n",
            " 2   martial_status   1990 non-null   object \n",
            " 3   email            2010 non-null   object \n",
            " 4   phone            2001 non-null   object \n",
            " 5   full_address     2010 non-null   object \n",
            " 6   job_title        1971 non-null   object \n",
            " 7   membership_date  2010 non-null   object \n",
            "dtypes: float64(1), object(7)\n",
            "memory usage: 125.8+ KB\n"
          ]
        },
        {
          "output_type": "stream",
          "name": "stderr",
          "text": [
            "/usr/local/lib/python3.10/dist-packages/ipykernel/ipkernel.py:283: DeprecationWarning: `should_run_async` will not call `transform_cell` automatically in the future. Please pass the result to `transformed_cell` argument and any exception that happen during thetransform in `preprocessing_exc_tuple` in IPython 7.17 and above.\n",
            "  and should_run_async(code)\n"
          ]
        }
      ],
      "source": [
        "df.info()"
      ]
    },
    {
      "cell_type": "markdown",
      "metadata": {
        "id": "I0GvE9bD2ij0"
      },
      "source": [
        "##Summary Statistik pada numerical columns"
      ]
    },
    {
      "cell_type": "code",
      "execution_count": null,
      "metadata": {
        "colab": {
          "base_uri": "https://localhost:8080/",
          "height": 355
        },
        "id": "8SNZqIrJ2Xv0",
        "outputId": "6ada79e9-497c-40c6-8272-8025b64429fc"
      },
      "outputs": [
        {
          "output_type": "stream",
          "name": "stderr",
          "text": [
            "/usr/local/lib/python3.10/dist-packages/ipykernel/ipkernel.py:283: DeprecationWarning: `should_run_async` will not call `transform_cell` automatically in the future. Please pass the result to `transformed_cell` argument and any exception that happen during thetransform in `preprocessing_exc_tuple` in IPython 7.17 and above.\n",
            "  and should_run_async(code)\n"
          ]
        },
        {
          "output_type": "execute_result",
          "data": {
            "text/plain": [
              "               age\n",
              "count  2007.000000\n",
              "mean     44.926756\n",
              "std      41.498191\n",
              "min      18.000000\n",
              "25%      32.000000\n",
              "50%      41.000000\n",
              "75%      51.000000\n",
              "max     677.000000"
            ],
            "text/html": [
              "\n",
              "  <div id=\"df-2007945c-0da9-46b3-98e3-089ed62caa82\" class=\"colab-df-container\">\n",
              "    <div>\n",
              "<style scoped>\n",
              "    .dataframe tbody tr th:only-of-type {\n",
              "        vertical-align: middle;\n",
              "    }\n",
              "\n",
              "    .dataframe tbody tr th {\n",
              "        vertical-align: top;\n",
              "    }\n",
              "\n",
              "    .dataframe thead th {\n",
              "        text-align: right;\n",
              "    }\n",
              "</style>\n",
              "<table border=\"1\" class=\"dataframe\">\n",
              "  <thead>\n",
              "    <tr style=\"text-align: right;\">\n",
              "      <th></th>\n",
              "      <th>age</th>\n",
              "    </tr>\n",
              "  </thead>\n",
              "  <tbody>\n",
              "    <tr>\n",
              "      <th>count</th>\n",
              "      <td>2007.000000</td>\n",
              "    </tr>\n",
              "    <tr>\n",
              "      <th>mean</th>\n",
              "      <td>44.926756</td>\n",
              "    </tr>\n",
              "    <tr>\n",
              "      <th>std</th>\n",
              "      <td>41.498191</td>\n",
              "    </tr>\n",
              "    <tr>\n",
              "      <th>min</th>\n",
              "      <td>18.000000</td>\n",
              "    </tr>\n",
              "    <tr>\n",
              "      <th>25%</th>\n",
              "      <td>32.000000</td>\n",
              "    </tr>\n",
              "    <tr>\n",
              "      <th>50%</th>\n",
              "      <td>41.000000</td>\n",
              "    </tr>\n",
              "    <tr>\n",
              "      <th>75%</th>\n",
              "      <td>51.000000</td>\n",
              "    </tr>\n",
              "    <tr>\n",
              "      <th>max</th>\n",
              "      <td>677.000000</td>\n",
              "    </tr>\n",
              "  </tbody>\n",
              "</table>\n",
              "</div>\n",
              "    <div class=\"colab-df-buttons\">\n",
              "\n",
              "  <div class=\"colab-df-container\">\n",
              "    <button class=\"colab-df-convert\" onclick=\"convertToInteractive('df-2007945c-0da9-46b3-98e3-089ed62caa82')\"\n",
              "            title=\"Convert this dataframe to an interactive table.\"\n",
              "            style=\"display:none;\">\n",
              "\n",
              "  <svg xmlns=\"http://www.w3.org/2000/svg\" height=\"24px\" viewBox=\"0 -960 960 960\">\n",
              "    <path d=\"M120-120v-720h720v720H120Zm60-500h600v-160H180v160Zm220 220h160v-160H400v160Zm0 220h160v-160H400v160ZM180-400h160v-160H180v160Zm440 0h160v-160H620v160ZM180-180h160v-160H180v160Zm440 0h160v-160H620v160Z\"/>\n",
              "  </svg>\n",
              "    </button>\n",
              "\n",
              "  <style>\n",
              "    .colab-df-container {\n",
              "      display:flex;\n",
              "      gap: 12px;\n",
              "    }\n",
              "\n",
              "    .colab-df-convert {\n",
              "      background-color: #E8F0FE;\n",
              "      border: none;\n",
              "      border-radius: 50%;\n",
              "      cursor: pointer;\n",
              "      display: none;\n",
              "      fill: #1967D2;\n",
              "      height: 32px;\n",
              "      padding: 0 0 0 0;\n",
              "      width: 32px;\n",
              "    }\n",
              "\n",
              "    .colab-df-convert:hover {\n",
              "      background-color: #E2EBFA;\n",
              "      box-shadow: 0px 1px 2px rgba(60, 64, 67, 0.3), 0px 1px 3px 1px rgba(60, 64, 67, 0.15);\n",
              "      fill: #174EA6;\n",
              "    }\n",
              "\n",
              "    .colab-df-buttons div {\n",
              "      margin-bottom: 4px;\n",
              "    }\n",
              "\n",
              "    [theme=dark] .colab-df-convert {\n",
              "      background-color: #3B4455;\n",
              "      fill: #D2E3FC;\n",
              "    }\n",
              "\n",
              "    [theme=dark] .colab-df-convert:hover {\n",
              "      background-color: #434B5C;\n",
              "      box-shadow: 0px 1px 3px 1px rgba(0, 0, 0, 0.15);\n",
              "      filter: drop-shadow(0px 1px 2px rgba(0, 0, 0, 0.3));\n",
              "      fill: #FFFFFF;\n",
              "    }\n",
              "  </style>\n",
              "\n",
              "    <script>\n",
              "      const buttonEl =\n",
              "        document.querySelector('#df-2007945c-0da9-46b3-98e3-089ed62caa82 button.colab-df-convert');\n",
              "      buttonEl.style.display =\n",
              "        google.colab.kernel.accessAllowed ? 'block' : 'none';\n",
              "\n",
              "      async function convertToInteractive(key) {\n",
              "        const element = document.querySelector('#df-2007945c-0da9-46b3-98e3-089ed62caa82');\n",
              "        const dataTable =\n",
              "          await google.colab.kernel.invokeFunction('convertToInteractive',\n",
              "                                                    [key], {});\n",
              "        if (!dataTable) return;\n",
              "\n",
              "        const docLinkHtml = 'Like what you see? Visit the ' +\n",
              "          '<a target=\"_blank\" href=https://colab.research.google.com/notebooks/data_table.ipynb>data table notebook</a>'\n",
              "          + ' to learn more about interactive tables.';\n",
              "        element.innerHTML = '';\n",
              "        dataTable['output_type'] = 'display_data';\n",
              "        await google.colab.output.renderOutput(dataTable, element);\n",
              "        const docLink = document.createElement('div');\n",
              "        docLink.innerHTML = docLinkHtml;\n",
              "        element.appendChild(docLink);\n",
              "      }\n",
              "    </script>\n",
              "  </div>\n",
              "\n",
              "\n",
              "<div id=\"df-aeaf7d0e-c19a-4849-9123-81511774809e\">\n",
              "  <button class=\"colab-df-quickchart\" onclick=\"quickchart('df-aeaf7d0e-c19a-4849-9123-81511774809e')\"\n",
              "            title=\"Suggest charts\"\n",
              "            style=\"display:none;\">\n",
              "\n",
              "<svg xmlns=\"http://www.w3.org/2000/svg\" height=\"24px\"viewBox=\"0 0 24 24\"\n",
              "     width=\"24px\">\n",
              "    <g>\n",
              "        <path d=\"M19 3H5c-1.1 0-2 .9-2 2v14c0 1.1.9 2 2 2h14c1.1 0 2-.9 2-2V5c0-1.1-.9-2-2-2zM9 17H7v-7h2v7zm4 0h-2V7h2v10zm4 0h-2v-4h2v4z\"/>\n",
              "    </g>\n",
              "</svg>\n",
              "  </button>\n",
              "\n",
              "<style>\n",
              "  .colab-df-quickchart {\n",
              "      --bg-color: #E8F0FE;\n",
              "      --fill-color: #1967D2;\n",
              "      --hover-bg-color: #E2EBFA;\n",
              "      --hover-fill-color: #174EA6;\n",
              "      --disabled-fill-color: #AAA;\n",
              "      --disabled-bg-color: #DDD;\n",
              "  }\n",
              "\n",
              "  [theme=dark] .colab-df-quickchart {\n",
              "      --bg-color: #3B4455;\n",
              "      --fill-color: #D2E3FC;\n",
              "      --hover-bg-color: #434B5C;\n",
              "      --hover-fill-color: #FFFFFF;\n",
              "      --disabled-bg-color: #3B4455;\n",
              "      --disabled-fill-color: #666;\n",
              "  }\n",
              "\n",
              "  .colab-df-quickchart {\n",
              "    background-color: var(--bg-color);\n",
              "    border: none;\n",
              "    border-radius: 50%;\n",
              "    cursor: pointer;\n",
              "    display: none;\n",
              "    fill: var(--fill-color);\n",
              "    height: 32px;\n",
              "    padding: 0;\n",
              "    width: 32px;\n",
              "  }\n",
              "\n",
              "  .colab-df-quickchart:hover {\n",
              "    background-color: var(--hover-bg-color);\n",
              "    box-shadow: 0 1px 2px rgba(60, 64, 67, 0.3), 0 1px 3px 1px rgba(60, 64, 67, 0.15);\n",
              "    fill: var(--button-hover-fill-color);\n",
              "  }\n",
              "\n",
              "  .colab-df-quickchart-complete:disabled,\n",
              "  .colab-df-quickchart-complete:disabled:hover {\n",
              "    background-color: var(--disabled-bg-color);\n",
              "    fill: var(--disabled-fill-color);\n",
              "    box-shadow: none;\n",
              "  }\n",
              "\n",
              "  .colab-df-spinner {\n",
              "    border: 2px solid var(--fill-color);\n",
              "    border-color: transparent;\n",
              "    border-bottom-color: var(--fill-color);\n",
              "    animation:\n",
              "      spin 1s steps(1) infinite;\n",
              "  }\n",
              "\n",
              "  @keyframes spin {\n",
              "    0% {\n",
              "      border-color: transparent;\n",
              "      border-bottom-color: var(--fill-color);\n",
              "      border-left-color: var(--fill-color);\n",
              "    }\n",
              "    20% {\n",
              "      border-color: transparent;\n",
              "      border-left-color: var(--fill-color);\n",
              "      border-top-color: var(--fill-color);\n",
              "    }\n",
              "    30% {\n",
              "      border-color: transparent;\n",
              "      border-left-color: var(--fill-color);\n",
              "      border-top-color: var(--fill-color);\n",
              "      border-right-color: var(--fill-color);\n",
              "    }\n",
              "    40% {\n",
              "      border-color: transparent;\n",
              "      border-right-color: var(--fill-color);\n",
              "      border-top-color: var(--fill-color);\n",
              "    }\n",
              "    60% {\n",
              "      border-color: transparent;\n",
              "      border-right-color: var(--fill-color);\n",
              "    }\n",
              "    80% {\n",
              "      border-color: transparent;\n",
              "      border-right-color: var(--fill-color);\n",
              "      border-bottom-color: var(--fill-color);\n",
              "    }\n",
              "    90% {\n",
              "      border-color: transparent;\n",
              "      border-bottom-color: var(--fill-color);\n",
              "    }\n",
              "  }\n",
              "</style>\n",
              "\n",
              "  <script>\n",
              "    async function quickchart(key) {\n",
              "      const quickchartButtonEl =\n",
              "        document.querySelector('#' + key + ' button');\n",
              "      quickchartButtonEl.disabled = true;  // To prevent multiple clicks.\n",
              "      quickchartButtonEl.classList.add('colab-df-spinner');\n",
              "      try {\n",
              "        const charts = await google.colab.kernel.invokeFunction(\n",
              "            'suggestCharts', [key], {});\n",
              "      } catch (error) {\n",
              "        console.error('Error during call to suggestCharts:', error);\n",
              "      }\n",
              "      quickchartButtonEl.classList.remove('colab-df-spinner');\n",
              "      quickchartButtonEl.classList.add('colab-df-quickchart-complete');\n",
              "    }\n",
              "    (() => {\n",
              "      let quickchartButtonEl =\n",
              "        document.querySelector('#df-aeaf7d0e-c19a-4849-9123-81511774809e button');\n",
              "      quickchartButtonEl.style.display =\n",
              "        google.colab.kernel.accessAllowed ? 'block' : 'none';\n",
              "    })();\n",
              "  </script>\n",
              "</div>\n",
              "\n",
              "    </div>\n",
              "  </div>\n"
            ],
            "application/vnd.google.colaboratory.intrinsic+json": {
              "type": "dataframe",
              "summary": "{\n  \"name\": \"df\",\n  \"rows\": 8,\n  \"fields\": [\n    {\n      \"column\": \"age\",\n      \"properties\": {\n        \"dtype\": \"number\",\n        \"std\": 700.5580560577067,\n        \"min\": 18.0,\n        \"max\": 2007.0,\n        \"num_unique_values\": 8,\n        \"samples\": [\n          44.926756352765324,\n          41.0,\n          2007.0\n        ],\n        \"semantic_type\": \"\",\n        \"description\": \"\"\n      }\n    }\n  ]\n}"
            }
          },
          "metadata": {},
          "execution_count": 12
        }
      ],
      "source": [
        "df.describe()"
      ]
    },
    {
      "cell_type": "markdown",
      "metadata": {
        "id": "KG4vhSJn19uV"
      },
      "source": [
        "- Rata Age pada rataan 44%\n",
        "- Max Age 677 dugaan adanya outlier ataupun kesalahan data (cleansing)"
      ]
    },
    {
      "cell_type": "markdown",
      "metadata": {
        "id": "-uJsQY3R11mL"
      },
      "source": [
        "#Missing Value Info"
      ]
    },
    {
      "cell_type": "code",
      "execution_count": null,
      "metadata": {
        "colab": {
          "base_uri": "https://localhost:8080/"
        },
        "id": "xL1x0CPGG6rp",
        "outputId": "f08e5bc1-f703-40dc-fedf-0ddc6834071c"
      },
      "outputs": [
        {
          "output_type": "stream",
          "name": "stderr",
          "text": [
            "/usr/local/lib/python3.10/dist-packages/ipykernel/ipkernel.py:283: DeprecationWarning: `should_run_async` will not call `transform_cell` automatically in the future. Please pass the result to `transformed_cell` argument and any exception that happen during thetransform in `preprocessing_exc_tuple` in IPython 7.17 and above.\n",
            "  and should_run_async(code)\n"
          ]
        },
        {
          "output_type": "execute_result",
          "data": {
            "text/plain": [
              "          variable  missing values  filling factor (%)\n",
              "0        job_title              39           98.059701\n",
              "1   martial_status              20           99.004975\n",
              "2            phone               9           99.552239\n",
              "3              age               3           99.850746\n",
              "4        full_name               0          100.000000\n",
              "5            email               0          100.000000\n",
              "6     full_address               0          100.000000\n",
              "7  membership_date               0          100.000000"
            ],
            "text/html": [
              "\n",
              "  <div id=\"df-6a857d11-469d-4a12-8f1a-51583cb824a7\" class=\"colab-df-container\">\n",
              "    <div>\n",
              "<style scoped>\n",
              "    .dataframe tbody tr th:only-of-type {\n",
              "        vertical-align: middle;\n",
              "    }\n",
              "\n",
              "    .dataframe tbody tr th {\n",
              "        vertical-align: top;\n",
              "    }\n",
              "\n",
              "    .dataframe thead th {\n",
              "        text-align: right;\n",
              "    }\n",
              "</style>\n",
              "<table border=\"1\" class=\"dataframe\">\n",
              "  <thead>\n",
              "    <tr style=\"text-align: right;\">\n",
              "      <th></th>\n",
              "      <th>variable</th>\n",
              "      <th>missing values</th>\n",
              "      <th>filling factor (%)</th>\n",
              "    </tr>\n",
              "  </thead>\n",
              "  <tbody>\n",
              "    <tr>\n",
              "      <th>0</th>\n",
              "      <td>job_title</td>\n",
              "      <td>39</td>\n",
              "      <td>98.059701</td>\n",
              "    </tr>\n",
              "    <tr>\n",
              "      <th>1</th>\n",
              "      <td>martial_status</td>\n",
              "      <td>20</td>\n",
              "      <td>99.004975</td>\n",
              "    </tr>\n",
              "    <tr>\n",
              "      <th>2</th>\n",
              "      <td>phone</td>\n",
              "      <td>9</td>\n",
              "      <td>99.552239</td>\n",
              "    </tr>\n",
              "    <tr>\n",
              "      <th>3</th>\n",
              "      <td>age</td>\n",
              "      <td>3</td>\n",
              "      <td>99.850746</td>\n",
              "    </tr>\n",
              "    <tr>\n",
              "      <th>4</th>\n",
              "      <td>full_name</td>\n",
              "      <td>0</td>\n",
              "      <td>100.000000</td>\n",
              "    </tr>\n",
              "    <tr>\n",
              "      <th>5</th>\n",
              "      <td>email</td>\n",
              "      <td>0</td>\n",
              "      <td>100.000000</td>\n",
              "    </tr>\n",
              "    <tr>\n",
              "      <th>6</th>\n",
              "      <td>full_address</td>\n",
              "      <td>0</td>\n",
              "      <td>100.000000</td>\n",
              "    </tr>\n",
              "    <tr>\n",
              "      <th>7</th>\n",
              "      <td>membership_date</td>\n",
              "      <td>0</td>\n",
              "      <td>100.000000</td>\n",
              "    </tr>\n",
              "  </tbody>\n",
              "</table>\n",
              "</div>\n",
              "    <div class=\"colab-df-buttons\">\n",
              "\n",
              "  <div class=\"colab-df-container\">\n",
              "    <button class=\"colab-df-convert\" onclick=\"convertToInteractive('df-6a857d11-469d-4a12-8f1a-51583cb824a7')\"\n",
              "            title=\"Convert this dataframe to an interactive table.\"\n",
              "            style=\"display:none;\">\n",
              "\n",
              "  <svg xmlns=\"http://www.w3.org/2000/svg\" height=\"24px\" viewBox=\"0 -960 960 960\">\n",
              "    <path d=\"M120-120v-720h720v720H120Zm60-500h600v-160H180v160Zm220 220h160v-160H400v160Zm0 220h160v-160H400v160ZM180-400h160v-160H180v160Zm440 0h160v-160H620v160ZM180-180h160v-160H180v160Zm440 0h160v-160H620v160Z\"/>\n",
              "  </svg>\n",
              "    </button>\n",
              "\n",
              "  <style>\n",
              "    .colab-df-container {\n",
              "      display:flex;\n",
              "      gap: 12px;\n",
              "    }\n",
              "\n",
              "    .colab-df-convert {\n",
              "      background-color: #E8F0FE;\n",
              "      border: none;\n",
              "      border-radius: 50%;\n",
              "      cursor: pointer;\n",
              "      display: none;\n",
              "      fill: #1967D2;\n",
              "      height: 32px;\n",
              "      padding: 0 0 0 0;\n",
              "      width: 32px;\n",
              "    }\n",
              "\n",
              "    .colab-df-convert:hover {\n",
              "      background-color: #E2EBFA;\n",
              "      box-shadow: 0px 1px 2px rgba(60, 64, 67, 0.3), 0px 1px 3px 1px rgba(60, 64, 67, 0.15);\n",
              "      fill: #174EA6;\n",
              "    }\n",
              "\n",
              "    .colab-df-buttons div {\n",
              "      margin-bottom: 4px;\n",
              "    }\n",
              "\n",
              "    [theme=dark] .colab-df-convert {\n",
              "      background-color: #3B4455;\n",
              "      fill: #D2E3FC;\n",
              "    }\n",
              "\n",
              "    [theme=dark] .colab-df-convert:hover {\n",
              "      background-color: #434B5C;\n",
              "      box-shadow: 0px 1px 3px 1px rgba(0, 0, 0, 0.15);\n",
              "      filter: drop-shadow(0px 1px 2px rgba(0, 0, 0, 0.3));\n",
              "      fill: #FFFFFF;\n",
              "    }\n",
              "  </style>\n",
              "\n",
              "    <script>\n",
              "      const buttonEl =\n",
              "        document.querySelector('#df-6a857d11-469d-4a12-8f1a-51583cb824a7 button.colab-df-convert');\n",
              "      buttonEl.style.display =\n",
              "        google.colab.kernel.accessAllowed ? 'block' : 'none';\n",
              "\n",
              "      async function convertToInteractive(key) {\n",
              "        const element = document.querySelector('#df-6a857d11-469d-4a12-8f1a-51583cb824a7');\n",
              "        const dataTable =\n",
              "          await google.colab.kernel.invokeFunction('convertToInteractive',\n",
              "                                                    [key], {});\n",
              "        if (!dataTable) return;\n",
              "\n",
              "        const docLinkHtml = 'Like what you see? Visit the ' +\n",
              "          '<a target=\"_blank\" href=https://colab.research.google.com/notebooks/data_table.ipynb>data table notebook</a>'\n",
              "          + ' to learn more about interactive tables.';\n",
              "        element.innerHTML = '';\n",
              "        dataTable['output_type'] = 'display_data';\n",
              "        await google.colab.output.renderOutput(dataTable, element);\n",
              "        const docLink = document.createElement('div');\n",
              "        docLink.innerHTML = docLinkHtml;\n",
              "        element.appendChild(docLink);\n",
              "      }\n",
              "    </script>\n",
              "  </div>\n",
              "\n",
              "\n",
              "<div id=\"df-b02a4db5-cb01-4ab6-bedb-1cd00c94b8cd\">\n",
              "  <button class=\"colab-df-quickchart\" onclick=\"quickchart('df-b02a4db5-cb01-4ab6-bedb-1cd00c94b8cd')\"\n",
              "            title=\"Suggest charts\"\n",
              "            style=\"display:none;\">\n",
              "\n",
              "<svg xmlns=\"http://www.w3.org/2000/svg\" height=\"24px\"viewBox=\"0 0 24 24\"\n",
              "     width=\"24px\">\n",
              "    <g>\n",
              "        <path d=\"M19 3H5c-1.1 0-2 .9-2 2v14c0 1.1.9 2 2 2h14c1.1 0 2-.9 2-2V5c0-1.1-.9-2-2-2zM9 17H7v-7h2v7zm4 0h-2V7h2v10zm4 0h-2v-4h2v4z\"/>\n",
              "    </g>\n",
              "</svg>\n",
              "  </button>\n",
              "\n",
              "<style>\n",
              "  .colab-df-quickchart {\n",
              "      --bg-color: #E8F0FE;\n",
              "      --fill-color: #1967D2;\n",
              "      --hover-bg-color: #E2EBFA;\n",
              "      --hover-fill-color: #174EA6;\n",
              "      --disabled-fill-color: #AAA;\n",
              "      --disabled-bg-color: #DDD;\n",
              "  }\n",
              "\n",
              "  [theme=dark] .colab-df-quickchart {\n",
              "      --bg-color: #3B4455;\n",
              "      --fill-color: #D2E3FC;\n",
              "      --hover-bg-color: #434B5C;\n",
              "      --hover-fill-color: #FFFFFF;\n",
              "      --disabled-bg-color: #3B4455;\n",
              "      --disabled-fill-color: #666;\n",
              "  }\n",
              "\n",
              "  .colab-df-quickchart {\n",
              "    background-color: var(--bg-color);\n",
              "    border: none;\n",
              "    border-radius: 50%;\n",
              "    cursor: pointer;\n",
              "    display: none;\n",
              "    fill: var(--fill-color);\n",
              "    height: 32px;\n",
              "    padding: 0;\n",
              "    width: 32px;\n",
              "  }\n",
              "\n",
              "  .colab-df-quickchart:hover {\n",
              "    background-color: var(--hover-bg-color);\n",
              "    box-shadow: 0 1px 2px rgba(60, 64, 67, 0.3), 0 1px 3px 1px rgba(60, 64, 67, 0.15);\n",
              "    fill: var(--button-hover-fill-color);\n",
              "  }\n",
              "\n",
              "  .colab-df-quickchart-complete:disabled,\n",
              "  .colab-df-quickchart-complete:disabled:hover {\n",
              "    background-color: var(--disabled-bg-color);\n",
              "    fill: var(--disabled-fill-color);\n",
              "    box-shadow: none;\n",
              "  }\n",
              "\n",
              "  .colab-df-spinner {\n",
              "    border: 2px solid var(--fill-color);\n",
              "    border-color: transparent;\n",
              "    border-bottom-color: var(--fill-color);\n",
              "    animation:\n",
              "      spin 1s steps(1) infinite;\n",
              "  }\n",
              "\n",
              "  @keyframes spin {\n",
              "    0% {\n",
              "      border-color: transparent;\n",
              "      border-bottom-color: var(--fill-color);\n",
              "      border-left-color: var(--fill-color);\n",
              "    }\n",
              "    20% {\n",
              "      border-color: transparent;\n",
              "      border-left-color: var(--fill-color);\n",
              "      border-top-color: var(--fill-color);\n",
              "    }\n",
              "    30% {\n",
              "      border-color: transparent;\n",
              "      border-left-color: var(--fill-color);\n",
              "      border-top-color: var(--fill-color);\n",
              "      border-right-color: var(--fill-color);\n",
              "    }\n",
              "    40% {\n",
              "      border-color: transparent;\n",
              "      border-right-color: var(--fill-color);\n",
              "      border-top-color: var(--fill-color);\n",
              "    }\n",
              "    60% {\n",
              "      border-color: transparent;\n",
              "      border-right-color: var(--fill-color);\n",
              "    }\n",
              "    80% {\n",
              "      border-color: transparent;\n",
              "      border-right-color: var(--fill-color);\n",
              "      border-bottom-color: var(--fill-color);\n",
              "    }\n",
              "    90% {\n",
              "      border-color: transparent;\n",
              "      border-bottom-color: var(--fill-color);\n",
              "    }\n",
              "  }\n",
              "</style>\n",
              "\n",
              "  <script>\n",
              "    async function quickchart(key) {\n",
              "      const quickchartButtonEl =\n",
              "        document.querySelector('#' + key + ' button');\n",
              "      quickchartButtonEl.disabled = true;  // To prevent multiple clicks.\n",
              "      quickchartButtonEl.classList.add('colab-df-spinner');\n",
              "      try {\n",
              "        const charts = await google.colab.kernel.invokeFunction(\n",
              "            'suggestCharts', [key], {});\n",
              "      } catch (error) {\n",
              "        console.error('Error during call to suggestCharts:', error);\n",
              "      }\n",
              "      quickchartButtonEl.classList.remove('colab-df-spinner');\n",
              "      quickchartButtonEl.classList.add('colab-df-quickchart-complete');\n",
              "    }\n",
              "    (() => {\n",
              "      let quickchartButtonEl =\n",
              "        document.querySelector('#df-b02a4db5-cb01-4ab6-bedb-1cd00c94b8cd button');\n",
              "      quickchartButtonEl.style.display =\n",
              "        google.colab.kernel.accessAllowed ? 'block' : 'none';\n",
              "    })();\n",
              "  </script>\n",
              "</div>\n",
              "\n",
              "    </div>\n",
              "  </div>\n"
            ],
            "application/vnd.google.colaboratory.intrinsic+json": {
              "type": "dataframe",
              "summary": "{\n  \"name\": \"find_missing_value(df)\",\n  \"rows\": 8,\n  \"fields\": [\n    {\n      \"column\": \"variable\",\n      \"properties\": {\n        \"dtype\": \"string\",\n        \"num_unique_values\": 8,\n        \"samples\": [\n          \"martial_status\",\n          \"email\",\n          \"job_title\"\n        ],\n        \"semantic_type\": \"\",\n        \"description\": \"\"\n      }\n    },\n    {\n      \"column\": \"missing values\",\n      \"properties\": {\n        \"dtype\": \"number\",\n        \"std\": 14,\n        \"min\": 0,\n        \"max\": 39,\n        \"num_unique_values\": 5,\n        \"samples\": [\n          20,\n          0,\n          9\n        ],\n        \"semantic_type\": \"\",\n        \"description\": \"\"\n      }\n    },\n    {\n      \"column\": \"filling factor (%)\",\n      \"properties\": {\n        \"dtype\": \"number\",\n        \"std\": 0.6987665483542586,\n        \"min\": 98.05970149253731,\n        \"max\": 100.0,\n        \"num_unique_values\": 5,\n        \"samples\": [\n          99.00497512437812,\n          100.0,\n          99.55223880597015\n        ],\n        \"semantic_type\": \"\",\n        \"description\": \"\"\n      }\n    }\n  ]\n}"
            }
          },
          "metadata": {},
          "execution_count": 13
        }
      ],
      "source": [
        "def find_missing_value(data_frame):\n",
        "    missing_data = data_frame.isnull().sum(axis=0).reset_index()\n",
        "    missing_data.columns = ['variable', 'missing values']\n",
        "    missing_data['filling factor (%)'] = (data_frame.shape[0]-missing_data['missing values'])/data_frame.shape[0]*100\n",
        "    return missing_data.sort_values('filling factor (%)').reset_index(drop = True)\n",
        "\n",
        "find_missing_value(df)"
      ]
    },
    {
      "cell_type": "markdown",
      "metadata": {
        "id": "aqrfLk3F1uom"
      },
      "source": [
        "Missing Value pada masing-masing Columns"
      ]
    },
    {
      "cell_type": "markdown",
      "metadata": {
        "id": "AQJ8oLqc1Mex"
      },
      "source": [
        "#Cek Duplicates"
      ]
    },
    {
      "cell_type": "code",
      "execution_count": null,
      "metadata": {
        "colab": {
          "base_uri": "https://localhost:8080/"
        },
        "id": "wgjHmHjHHFyl",
        "outputId": "4abb1929-2d80-4890-947d-15d0405aa1be"
      },
      "outputs": [
        {
          "output_type": "stream",
          "name": "stdout",
          "text": [
            "               full_name   age martial_status                       email  \\\n",
            "1323  Tamqrah Dunkersley  36.0         single   tdunkersley8u@dedecms.com   \n",
            "1403  Tamqrah Dunkersley  36.0         single   tdunkersley8u@dedecms.com   \n",
            "1480    Nicki Filliskirk  66.0        married  nfilliskirkd5@newsvine.com   \n",
            "1600    Nicki Filliskirk  66.0        married  nfilliskirkd5@newsvine.com   \n",
            "1840        ERWIN HUXTER  25.0        married   ehuxterm0@marketwatch.com   \n",
            "1920        ERWIN HUXTER  25.0        married   ehuxterm0@marketwatch.com   \n",
            "\n",
            "             phone                              full_address  \\\n",
            "1323  651-939-2423   0 Colorado Terrace,Saint Paul,Minnesota   \n",
            "1403  651-939-2423   0 Colorado Terrace,Saint Paul,Minnesota   \n",
            "1480  410-848-2272      7657 Alpine Plaza,Baltimore,Maryland   \n",
            "1600  410-848-2272      7657 Alpine Plaza,Baltimore,Maryland   \n",
            "1840  704-295-3261  0 Homewood Road,Charlotte,North Carolina   \n",
            "1920  704-295-3261  0 Homewood Road,Charlotte,North Carolina   \n",
            "\n",
            "                       job_title membership_date  \n",
            "1323                    VP Sales       6/27/2016  \n",
            "1403                    VP Sales       6/27/2016  \n",
            "1480                Geologist IV       6/18/2021  \n",
            "1600                Geologist IV       6/18/2021  \n",
            "1840  Software Test Engineer III       9/29/2017  \n",
            "1920  Software Test Engineer III       9/29/2017  \n"
          ]
        },
        {
          "output_type": "stream",
          "name": "stderr",
          "text": [
            "/usr/local/lib/python3.10/dist-packages/ipykernel/ipkernel.py:283: DeprecationWarning: `should_run_async` will not call `transform_cell` automatically in the future. Please pass the result to `transformed_cell` argument and any exception that happen during thetransform in `preprocessing_exc_tuple` in IPython 7.17 and above.\n",
            "  and should_run_async(code)\n"
          ]
        }
      ],
      "source": [
        "duplicates = df[df.duplicated(keep=False)]\n",
        "print(duplicates)"
      ]
    },
    {
      "cell_type": "markdown",
      "metadata": {
        "id": "Bpxg6EAL1iCW"
      },
      "source": [
        "Terdapat 3 duplicates dengan pengecekan dataframe menyeluruh"
      ]
    },
    {
      "cell_type": "code",
      "execution_count": null,
      "metadata": {
        "colab": {
          "base_uri": "https://localhost:8080/"
        },
        "id": "3nd_BoKYor_L",
        "outputId": "12785ab4-1645-471e-fb67-4a14bdea923d"
      },
      "outputs": [
        {
          "output_type": "stream",
          "name": "stderr",
          "text": [
            "/usr/local/lib/python3.10/dist-packages/ipykernel/ipkernel.py:283: DeprecationWarning: `should_run_async` will not call `transform_cell` automatically in the future. Please pass the result to `transformed_cell` argument and any exception that happen during thetransform in `preprocessing_exc_tuple` in IPython 7.17 and above.\n",
            "  and should_run_async(code)\n"
          ]
        },
        {
          "output_type": "execute_result",
          "data": {
            "text/plain": [
              "               full_name    age martial_status                       email  \\\n",
              "1840        ERWIN HUXTER   25.0        married   ehuxterm0@marketwatch.com   \n",
              "1800        ERWIN HUXTER   25.0         single   ehuxterm0@marketwatch.com   \n",
              "1920        ERWIN HUXTER   25.0        married   ehuxterm0@marketwatch.com   \n",
              "1254      Garrick Reglar   66.0         single       greglar4r@answers.com   \n",
              "1175      Garrick Reglar   66.0      separated       greglar4r@answers.com   \n",
              "1434      Haskell Braden  322.0       divorced      hbradenri@freewebs.com   \n",
              "2000      Haskell Braden   32.0       divorced      hbradenri@freewebs.com   \n",
              "1014    Maddie Morrallee   39.0       divorced  mmorralleemj@wordpress.com   \n",
              "814     Maddie Morrallee   39.0        married  mmorralleemj@wordpress.com   \n",
              "1480    Nicki Filliskirk   66.0        married  nfilliskirkd5@newsvine.com   \n",
              "1600    Nicki Filliskirk   66.0        married  nfilliskirkd5@newsvine.com   \n",
              "259      Obed MacCaughen   27.0        married     omaccaughen1o@naver.com   \n",
              "60       Obed MacCaughen   27.0      separated     omaccaughen1o@naver.com   \n",
              "450       Seymour Lamble   27.0         single      slamble81@amazon.co.uk   \n",
              "290       Seymour Lamble   27.0        married      slamble81@amazon.co.uk   \n",
              "1323  Tamqrah Dunkersley   36.0         single   tdunkersley8u@dedecms.com   \n",
              "1403  Tamqrah Dunkersley   36.0         single   tdunkersley8u@dedecms.com   \n",
              "803      georges prewett   47.0         single          gprewettfl@mac.com   \n",
              "563      georges prewett   47.0        married          gprewettfl@mac.com   \n",
              "\n",
              "             phone                                full_address  \\\n",
              "1840  704-295-3261    0 Homewood Road,Charlotte,North Carolina   \n",
              "1800  704-295-3261    0 Homewood Road,Charlotte,North Carolina   \n",
              "1920  704-295-3261    0 Homewood Road,Charlotte,North Carolina   \n",
              "1254  214-314-5437                 6 Dottie Drive,Dallas,Texas   \n",
              "1175  214-314-5437                 6 Dottie Drive,Dallas,Texas   \n",
              "1434  510-963-9848  35005 Waubesa Crossing,Berkeley,California   \n",
              "2000  510-963-9848  35005 Waubesa Crossing,Berkeley,California   \n",
              "1014  712-853-2968        9339 Straubel Center,Sioux City,Iowa   \n",
              "814   712-853-2968        9339 Straubel Center,Sioux City,Iowa   \n",
              "1480  410-848-2272        7657 Alpine Plaza,Baltimore,Maryland   \n",
              "1600  410-848-2272        7657 Alpine Plaza,Baltimore,Maryland   \n",
              "259   815-990-8611      7069 Valley Edge Alley,Joliet,Illinois   \n",
              "60    815-990-8611      7069 Valley Edge Alley,Joliet,Illinois   \n",
              "450   979-346-7243               90691 Veith Place,Bryan,Texas   \n",
              "290   979-346-7243               90691 Veith Place,Bryan,Texas   \n",
              "1323  651-939-2423     0 Colorado Terrace,Saint Paul,Minnesota   \n",
              "1403  651-939-2423     0 Colorado Terrace,Saint Paul,Minnesota   \n",
              "803   571-157-7766         76 Graedel Road,Alexandria,Virginia   \n",
              "563   571-157-7766         76 Graedel Road,Alexandria,Virginia   \n",
              "\n",
              "                         job_title membership_date  \n",
              "1840    Software Test Engineer III       9/29/2017  \n",
              "1800    Software Test Engineer III       9/29/2017  \n",
              "1920    Software Test Engineer III       9/29/2017  \n",
              "1254           Safety Technician I      11/22/2015  \n",
              "1175           Safety Technician I      11/22/2015  \n",
              "1434              Dental Hygienist       11/4/2015  \n",
              "2000              Dental Hygienist       11/4/2015  \n",
              "1014          Software Engineer II       1/29/2020  \n",
              "814           Software Engineer II       1/29/2020  \n",
              "1480                  Geologist IV       6/18/2021  \n",
              "1600                  Geologist IV       6/18/2021  \n",
              "259               Junior Executive       1/27/2012  \n",
              "60                Junior Executive       1/27/2012  \n",
              "450   Budget/Accounting Analyst IV      12/26/2017  \n",
              "290   Budget/Accounting Analyst IV      12/26/2017  \n",
              "1323                      VP Sales       6/27/2016  \n",
              "1403                      VP Sales       6/27/2016  \n",
              "803                      Paralegal       10/5/2015  \n",
              "563                      Paralegal       10/5/2015  "
            ],
            "text/html": [
              "\n",
              "  <div id=\"df-4069794e-1ccd-44df-8765-e3cc036c6211\" class=\"colab-df-container\">\n",
              "    <div>\n",
              "<style scoped>\n",
              "    .dataframe tbody tr th:only-of-type {\n",
              "        vertical-align: middle;\n",
              "    }\n",
              "\n",
              "    .dataframe tbody tr th {\n",
              "        vertical-align: top;\n",
              "    }\n",
              "\n",
              "    .dataframe thead th {\n",
              "        text-align: right;\n",
              "    }\n",
              "</style>\n",
              "<table border=\"1\" class=\"dataframe\">\n",
              "  <thead>\n",
              "    <tr style=\"text-align: right;\">\n",
              "      <th></th>\n",
              "      <th>full_name</th>\n",
              "      <th>age</th>\n",
              "      <th>martial_status</th>\n",
              "      <th>email</th>\n",
              "      <th>phone</th>\n",
              "      <th>full_address</th>\n",
              "      <th>job_title</th>\n",
              "      <th>membership_date</th>\n",
              "    </tr>\n",
              "  </thead>\n",
              "  <tbody>\n",
              "    <tr>\n",
              "      <th>1840</th>\n",
              "      <td>ERWIN HUXTER</td>\n",
              "      <td>25.0</td>\n",
              "      <td>married</td>\n",
              "      <td>ehuxterm0@marketwatch.com</td>\n",
              "      <td>704-295-3261</td>\n",
              "      <td>0 Homewood Road,Charlotte,North Carolina</td>\n",
              "      <td>Software Test Engineer III</td>\n",
              "      <td>9/29/2017</td>\n",
              "    </tr>\n",
              "    <tr>\n",
              "      <th>1800</th>\n",
              "      <td>ERWIN HUXTER</td>\n",
              "      <td>25.0</td>\n",
              "      <td>single</td>\n",
              "      <td>ehuxterm0@marketwatch.com</td>\n",
              "      <td>704-295-3261</td>\n",
              "      <td>0 Homewood Road,Charlotte,North Carolina</td>\n",
              "      <td>Software Test Engineer III</td>\n",
              "      <td>9/29/2017</td>\n",
              "    </tr>\n",
              "    <tr>\n",
              "      <th>1920</th>\n",
              "      <td>ERWIN HUXTER</td>\n",
              "      <td>25.0</td>\n",
              "      <td>married</td>\n",
              "      <td>ehuxterm0@marketwatch.com</td>\n",
              "      <td>704-295-3261</td>\n",
              "      <td>0 Homewood Road,Charlotte,North Carolina</td>\n",
              "      <td>Software Test Engineer III</td>\n",
              "      <td>9/29/2017</td>\n",
              "    </tr>\n",
              "    <tr>\n",
              "      <th>1254</th>\n",
              "      <td>Garrick Reglar</td>\n",
              "      <td>66.0</td>\n",
              "      <td>single</td>\n",
              "      <td>greglar4r@answers.com</td>\n",
              "      <td>214-314-5437</td>\n",
              "      <td>6 Dottie Drive,Dallas,Texas</td>\n",
              "      <td>Safety Technician I</td>\n",
              "      <td>11/22/2015</td>\n",
              "    </tr>\n",
              "    <tr>\n",
              "      <th>1175</th>\n",
              "      <td>Garrick Reglar</td>\n",
              "      <td>66.0</td>\n",
              "      <td>separated</td>\n",
              "      <td>greglar4r@answers.com</td>\n",
              "      <td>214-314-5437</td>\n",
              "      <td>6 Dottie Drive,Dallas,Texas</td>\n",
              "      <td>Safety Technician I</td>\n",
              "      <td>11/22/2015</td>\n",
              "    </tr>\n",
              "    <tr>\n",
              "      <th>1434</th>\n",
              "      <td>Haskell Braden</td>\n",
              "      <td>322.0</td>\n",
              "      <td>divorced</td>\n",
              "      <td>hbradenri@freewebs.com</td>\n",
              "      <td>510-963-9848</td>\n",
              "      <td>35005 Waubesa Crossing,Berkeley,California</td>\n",
              "      <td>Dental Hygienist</td>\n",
              "      <td>11/4/2015</td>\n",
              "    </tr>\n",
              "    <tr>\n",
              "      <th>2000</th>\n",
              "      <td>Haskell Braden</td>\n",
              "      <td>32.0</td>\n",
              "      <td>divorced</td>\n",
              "      <td>hbradenri@freewebs.com</td>\n",
              "      <td>510-963-9848</td>\n",
              "      <td>35005 Waubesa Crossing,Berkeley,California</td>\n",
              "      <td>Dental Hygienist</td>\n",
              "      <td>11/4/2015</td>\n",
              "    </tr>\n",
              "    <tr>\n",
              "      <th>1014</th>\n",
              "      <td>Maddie Morrallee</td>\n",
              "      <td>39.0</td>\n",
              "      <td>divorced</td>\n",
              "      <td>mmorralleemj@wordpress.com</td>\n",
              "      <td>712-853-2968</td>\n",
              "      <td>9339 Straubel Center,Sioux City,Iowa</td>\n",
              "      <td>Software Engineer II</td>\n",
              "      <td>1/29/2020</td>\n",
              "    </tr>\n",
              "    <tr>\n",
              "      <th>814</th>\n",
              "      <td>Maddie Morrallee</td>\n",
              "      <td>39.0</td>\n",
              "      <td>married</td>\n",
              "      <td>mmorralleemj@wordpress.com</td>\n",
              "      <td>712-853-2968</td>\n",
              "      <td>9339 Straubel Center,Sioux City,Iowa</td>\n",
              "      <td>Software Engineer II</td>\n",
              "      <td>1/29/2020</td>\n",
              "    </tr>\n",
              "    <tr>\n",
              "      <th>1480</th>\n",
              "      <td>Nicki Filliskirk</td>\n",
              "      <td>66.0</td>\n",
              "      <td>married</td>\n",
              "      <td>nfilliskirkd5@newsvine.com</td>\n",
              "      <td>410-848-2272</td>\n",
              "      <td>7657 Alpine Plaza,Baltimore,Maryland</td>\n",
              "      <td>Geologist IV</td>\n",
              "      <td>6/18/2021</td>\n",
              "    </tr>\n",
              "    <tr>\n",
              "      <th>1600</th>\n",
              "      <td>Nicki Filliskirk</td>\n",
              "      <td>66.0</td>\n",
              "      <td>married</td>\n",
              "      <td>nfilliskirkd5@newsvine.com</td>\n",
              "      <td>410-848-2272</td>\n",
              "      <td>7657 Alpine Plaza,Baltimore,Maryland</td>\n",
              "      <td>Geologist IV</td>\n",
              "      <td>6/18/2021</td>\n",
              "    </tr>\n",
              "    <tr>\n",
              "      <th>259</th>\n",
              "      <td>Obed MacCaughen</td>\n",
              "      <td>27.0</td>\n",
              "      <td>married</td>\n",
              "      <td>omaccaughen1o@naver.com</td>\n",
              "      <td>815-990-8611</td>\n",
              "      <td>7069 Valley Edge Alley,Joliet,Illinois</td>\n",
              "      <td>Junior Executive</td>\n",
              "      <td>1/27/2012</td>\n",
              "    </tr>\n",
              "    <tr>\n",
              "      <th>60</th>\n",
              "      <td>Obed MacCaughen</td>\n",
              "      <td>27.0</td>\n",
              "      <td>separated</td>\n",
              "      <td>omaccaughen1o@naver.com</td>\n",
              "      <td>815-990-8611</td>\n",
              "      <td>7069 Valley Edge Alley,Joliet,Illinois</td>\n",
              "      <td>Junior Executive</td>\n",
              "      <td>1/27/2012</td>\n",
              "    </tr>\n",
              "    <tr>\n",
              "      <th>450</th>\n",
              "      <td>Seymour Lamble</td>\n",
              "      <td>27.0</td>\n",
              "      <td>single</td>\n",
              "      <td>slamble81@amazon.co.uk</td>\n",
              "      <td>979-346-7243</td>\n",
              "      <td>90691 Veith Place,Bryan,Texas</td>\n",
              "      <td>Budget/Accounting Analyst IV</td>\n",
              "      <td>12/26/2017</td>\n",
              "    </tr>\n",
              "    <tr>\n",
              "      <th>290</th>\n",
              "      <td>Seymour Lamble</td>\n",
              "      <td>27.0</td>\n",
              "      <td>married</td>\n",
              "      <td>slamble81@amazon.co.uk</td>\n",
              "      <td>979-346-7243</td>\n",
              "      <td>90691 Veith Place,Bryan,Texas</td>\n",
              "      <td>Budget/Accounting Analyst IV</td>\n",
              "      <td>12/26/2017</td>\n",
              "    </tr>\n",
              "    <tr>\n",
              "      <th>1323</th>\n",
              "      <td>Tamqrah Dunkersley</td>\n",
              "      <td>36.0</td>\n",
              "      <td>single</td>\n",
              "      <td>tdunkersley8u@dedecms.com</td>\n",
              "      <td>651-939-2423</td>\n",
              "      <td>0 Colorado Terrace,Saint Paul,Minnesota</td>\n",
              "      <td>VP Sales</td>\n",
              "      <td>6/27/2016</td>\n",
              "    </tr>\n",
              "    <tr>\n",
              "      <th>1403</th>\n",
              "      <td>Tamqrah Dunkersley</td>\n",
              "      <td>36.0</td>\n",
              "      <td>single</td>\n",
              "      <td>tdunkersley8u@dedecms.com</td>\n",
              "      <td>651-939-2423</td>\n",
              "      <td>0 Colorado Terrace,Saint Paul,Minnesota</td>\n",
              "      <td>VP Sales</td>\n",
              "      <td>6/27/2016</td>\n",
              "    </tr>\n",
              "    <tr>\n",
              "      <th>803</th>\n",
              "      <td>georges prewett</td>\n",
              "      <td>47.0</td>\n",
              "      <td>single</td>\n",
              "      <td>gprewettfl@mac.com</td>\n",
              "      <td>571-157-7766</td>\n",
              "      <td>76 Graedel Road,Alexandria,Virginia</td>\n",
              "      <td>Paralegal</td>\n",
              "      <td>10/5/2015</td>\n",
              "    </tr>\n",
              "    <tr>\n",
              "      <th>563</th>\n",
              "      <td>georges prewett</td>\n",
              "      <td>47.0</td>\n",
              "      <td>married</td>\n",
              "      <td>gprewettfl@mac.com</td>\n",
              "      <td>571-157-7766</td>\n",
              "      <td>76 Graedel Road,Alexandria,Virginia</td>\n",
              "      <td>Paralegal</td>\n",
              "      <td>10/5/2015</td>\n",
              "    </tr>\n",
              "  </tbody>\n",
              "</table>\n",
              "</div>\n",
              "    <div class=\"colab-df-buttons\">\n",
              "\n",
              "  <div class=\"colab-df-container\">\n",
              "    <button class=\"colab-df-convert\" onclick=\"convertToInteractive('df-4069794e-1ccd-44df-8765-e3cc036c6211')\"\n",
              "            title=\"Convert this dataframe to an interactive table.\"\n",
              "            style=\"display:none;\">\n",
              "\n",
              "  <svg xmlns=\"http://www.w3.org/2000/svg\" height=\"24px\" viewBox=\"0 -960 960 960\">\n",
              "    <path d=\"M120-120v-720h720v720H120Zm60-500h600v-160H180v160Zm220 220h160v-160H400v160Zm0 220h160v-160H400v160ZM180-400h160v-160H180v160Zm440 0h160v-160H620v160ZM180-180h160v-160H180v160Zm440 0h160v-160H620v160Z\"/>\n",
              "  </svg>\n",
              "    </button>\n",
              "\n",
              "  <style>\n",
              "    .colab-df-container {\n",
              "      display:flex;\n",
              "      gap: 12px;\n",
              "    }\n",
              "\n",
              "    .colab-df-convert {\n",
              "      background-color: #E8F0FE;\n",
              "      border: none;\n",
              "      border-radius: 50%;\n",
              "      cursor: pointer;\n",
              "      display: none;\n",
              "      fill: #1967D2;\n",
              "      height: 32px;\n",
              "      padding: 0 0 0 0;\n",
              "      width: 32px;\n",
              "    }\n",
              "\n",
              "    .colab-df-convert:hover {\n",
              "      background-color: #E2EBFA;\n",
              "      box-shadow: 0px 1px 2px rgba(60, 64, 67, 0.3), 0px 1px 3px 1px rgba(60, 64, 67, 0.15);\n",
              "      fill: #174EA6;\n",
              "    }\n",
              "\n",
              "    .colab-df-buttons div {\n",
              "      margin-bottom: 4px;\n",
              "    }\n",
              "\n",
              "    [theme=dark] .colab-df-convert {\n",
              "      background-color: #3B4455;\n",
              "      fill: #D2E3FC;\n",
              "    }\n",
              "\n",
              "    [theme=dark] .colab-df-convert:hover {\n",
              "      background-color: #434B5C;\n",
              "      box-shadow: 0px 1px 3px 1px rgba(0, 0, 0, 0.15);\n",
              "      filter: drop-shadow(0px 1px 2px rgba(0, 0, 0, 0.3));\n",
              "      fill: #FFFFFF;\n",
              "    }\n",
              "  </style>\n",
              "\n",
              "    <script>\n",
              "      const buttonEl =\n",
              "        document.querySelector('#df-4069794e-1ccd-44df-8765-e3cc036c6211 button.colab-df-convert');\n",
              "      buttonEl.style.display =\n",
              "        google.colab.kernel.accessAllowed ? 'block' : 'none';\n",
              "\n",
              "      async function convertToInteractive(key) {\n",
              "        const element = document.querySelector('#df-4069794e-1ccd-44df-8765-e3cc036c6211');\n",
              "        const dataTable =\n",
              "          await google.colab.kernel.invokeFunction('convertToInteractive',\n",
              "                                                    [key], {});\n",
              "        if (!dataTable) return;\n",
              "\n",
              "        const docLinkHtml = 'Like what you see? Visit the ' +\n",
              "          '<a target=\"_blank\" href=https://colab.research.google.com/notebooks/data_table.ipynb>data table notebook</a>'\n",
              "          + ' to learn more about interactive tables.';\n",
              "        element.innerHTML = '';\n",
              "        dataTable['output_type'] = 'display_data';\n",
              "        await google.colab.output.renderOutput(dataTable, element);\n",
              "        const docLink = document.createElement('div');\n",
              "        docLink.innerHTML = docLinkHtml;\n",
              "        element.appendChild(docLink);\n",
              "      }\n",
              "    </script>\n",
              "  </div>\n",
              "\n",
              "\n",
              "<div id=\"df-48b919bc-bcee-4417-8653-c113eb8f0926\">\n",
              "  <button class=\"colab-df-quickchart\" onclick=\"quickchart('df-48b919bc-bcee-4417-8653-c113eb8f0926')\"\n",
              "            title=\"Suggest charts\"\n",
              "            style=\"display:none;\">\n",
              "\n",
              "<svg xmlns=\"http://www.w3.org/2000/svg\" height=\"24px\"viewBox=\"0 0 24 24\"\n",
              "     width=\"24px\">\n",
              "    <g>\n",
              "        <path d=\"M19 3H5c-1.1 0-2 .9-2 2v14c0 1.1.9 2 2 2h14c1.1 0 2-.9 2-2V5c0-1.1-.9-2-2-2zM9 17H7v-7h2v7zm4 0h-2V7h2v10zm4 0h-2v-4h2v4z\"/>\n",
              "    </g>\n",
              "</svg>\n",
              "  </button>\n",
              "\n",
              "<style>\n",
              "  .colab-df-quickchart {\n",
              "      --bg-color: #E8F0FE;\n",
              "      --fill-color: #1967D2;\n",
              "      --hover-bg-color: #E2EBFA;\n",
              "      --hover-fill-color: #174EA6;\n",
              "      --disabled-fill-color: #AAA;\n",
              "      --disabled-bg-color: #DDD;\n",
              "  }\n",
              "\n",
              "  [theme=dark] .colab-df-quickchart {\n",
              "      --bg-color: #3B4455;\n",
              "      --fill-color: #D2E3FC;\n",
              "      --hover-bg-color: #434B5C;\n",
              "      --hover-fill-color: #FFFFFF;\n",
              "      --disabled-bg-color: #3B4455;\n",
              "      --disabled-fill-color: #666;\n",
              "  }\n",
              "\n",
              "  .colab-df-quickchart {\n",
              "    background-color: var(--bg-color);\n",
              "    border: none;\n",
              "    border-radius: 50%;\n",
              "    cursor: pointer;\n",
              "    display: none;\n",
              "    fill: var(--fill-color);\n",
              "    height: 32px;\n",
              "    padding: 0;\n",
              "    width: 32px;\n",
              "  }\n",
              "\n",
              "  .colab-df-quickchart:hover {\n",
              "    background-color: var(--hover-bg-color);\n",
              "    box-shadow: 0 1px 2px rgba(60, 64, 67, 0.3), 0 1px 3px 1px rgba(60, 64, 67, 0.15);\n",
              "    fill: var(--button-hover-fill-color);\n",
              "  }\n",
              "\n",
              "  .colab-df-quickchart-complete:disabled,\n",
              "  .colab-df-quickchart-complete:disabled:hover {\n",
              "    background-color: var(--disabled-bg-color);\n",
              "    fill: var(--disabled-fill-color);\n",
              "    box-shadow: none;\n",
              "  }\n",
              "\n",
              "  .colab-df-spinner {\n",
              "    border: 2px solid var(--fill-color);\n",
              "    border-color: transparent;\n",
              "    border-bottom-color: var(--fill-color);\n",
              "    animation:\n",
              "      spin 1s steps(1) infinite;\n",
              "  }\n",
              "\n",
              "  @keyframes spin {\n",
              "    0% {\n",
              "      border-color: transparent;\n",
              "      border-bottom-color: var(--fill-color);\n",
              "      border-left-color: var(--fill-color);\n",
              "    }\n",
              "    20% {\n",
              "      border-color: transparent;\n",
              "      border-left-color: var(--fill-color);\n",
              "      border-top-color: var(--fill-color);\n",
              "    }\n",
              "    30% {\n",
              "      border-color: transparent;\n",
              "      border-left-color: var(--fill-color);\n",
              "      border-top-color: var(--fill-color);\n",
              "      border-right-color: var(--fill-color);\n",
              "    }\n",
              "    40% {\n",
              "      border-color: transparent;\n",
              "      border-right-color: var(--fill-color);\n",
              "      border-top-color: var(--fill-color);\n",
              "    }\n",
              "    60% {\n",
              "      border-color: transparent;\n",
              "      border-right-color: var(--fill-color);\n",
              "    }\n",
              "    80% {\n",
              "      border-color: transparent;\n",
              "      border-right-color: var(--fill-color);\n",
              "      border-bottom-color: var(--fill-color);\n",
              "    }\n",
              "    90% {\n",
              "      border-color: transparent;\n",
              "      border-bottom-color: var(--fill-color);\n",
              "    }\n",
              "  }\n",
              "</style>\n",
              "\n",
              "  <script>\n",
              "    async function quickchart(key) {\n",
              "      const quickchartButtonEl =\n",
              "        document.querySelector('#' + key + ' button');\n",
              "      quickchartButtonEl.disabled = true;  // To prevent multiple clicks.\n",
              "      quickchartButtonEl.classList.add('colab-df-spinner');\n",
              "      try {\n",
              "        const charts = await google.colab.kernel.invokeFunction(\n",
              "            'suggestCharts', [key], {});\n",
              "      } catch (error) {\n",
              "        console.error('Error during call to suggestCharts:', error);\n",
              "      }\n",
              "      quickchartButtonEl.classList.remove('colab-df-spinner');\n",
              "      quickchartButtonEl.classList.add('colab-df-quickchart-complete');\n",
              "    }\n",
              "    (() => {\n",
              "      let quickchartButtonEl =\n",
              "        document.querySelector('#df-48b919bc-bcee-4417-8653-c113eb8f0926 button');\n",
              "      quickchartButtonEl.style.display =\n",
              "        google.colab.kernel.accessAllowed ? 'block' : 'none';\n",
              "    })();\n",
              "  </script>\n",
              "</div>\n",
              "\n",
              "    </div>\n",
              "  </div>\n"
            ],
            "application/vnd.google.colaboratory.intrinsic+json": {
              "type": "dataframe",
              "repr_error": "0"
            }
          },
          "metadata": {},
          "execution_count": 15
        }
      ],
      "source": [
        "from pickle import FALSE\n",
        "# Check for duplicates by specific columns\n",
        "duplicate_details = df[df.duplicated(subset=['full_name'], keep=False)]\n",
        "\n",
        "# Display the duplicate details\n",
        "duplicate_details\n",
        "duplicate_details.sort_values(by=['full_name'])\n"
      ]
    },
    {
      "cell_type": "markdown",
      "metadata": {
        "id": "5IpJoOKfsXjk"
      },
      "source": [
        "Setelah pengecekan dupe berdasar nama terdapat 9 data Dupe"
      ]
    },
    {
      "cell_type": "markdown",
      "metadata": {
        "id": "Av92Kxfl1WPU"
      },
      "source": [
        "#Cek Numerical Columns"
      ]
    },
    {
      "cell_type": "code",
      "source": [
        "numeric_variable = df.select_dtypes(exclude=['object','category','bool']).columns\n",
        "numeric_variable"
      ],
      "metadata": {
        "id": "yECiDotTzqzf"
      },
      "execution_count": null,
      "outputs": []
    },
    {
      "cell_type": "code",
      "execution_count": null,
      "metadata": {
        "id": "0GiTvyipIqTa"
      },
      "outputs": [],
      "source": [
        "numeric = df.loc[:, (df.dtypes == int) | (df.dtypes == float)].columns.tolist()\n",
        "numeric"
      ]
    },
    {
      "cell_type": "markdown",
      "metadata": {
        "id": "HvWf2n1F1l6x"
      },
      "source": [
        "Numerical columns hanya [Age]"
      ]
    },
    {
      "cell_type": "markdown",
      "metadata": {
        "id": "JOV_9gdLF_Cs"
      },
      "source": [
        "# Data Frame Copy"
      ]
    },
    {
      "cell_type": "code",
      "execution_count": null,
      "metadata": {
        "id": "riGNwdHQqqCG"
      },
      "outputs": [],
      "source": [
        "df_temp = df.copy()"
      ]
    },
    {
      "cell_type": "markdown",
      "metadata": {
        "id": "BOiEHaUSGHmJ"
      },
      "source": [
        "#DF_Temp Cleaning"
      ]
    },
    {
      "cell_type": "markdown",
      "metadata": {
        "id": "7CtXhp3TR6KM"
      },
      "source": [
        "##Cleaning Name Column (extra space dan special char)"
      ]
    },
    {
      "cell_type": "code",
      "execution_count": null,
      "metadata": {
        "id": "wSaziCeZqzTE"
      },
      "outputs": [],
      "source": [
        "# def function Cleaning nama yang ada extra space dan special char dan di jadikan lowercase semua\n",
        "def clean_full_name(name) :\n",
        "  return  re.sub(r'[^a-zA-Z0-9\\s]', '', name).strip().lower()"
      ]
    },
    {
      "cell_type": "code",
      "execution_count": null,
      "metadata": {
        "collapsed": true,
        "id": "XWPPNbokx4bS"
      },
      "outputs": [],
      "source": [
        "# apply on selected column\n",
        "df_temp['full_name'] = df_temp['full_name'].apply(clean_full_name)\n",
        "df_temp.head(50)"
      ]
    },
    {
      "cell_type": "markdown",
      "metadata": {
        "id": "NXBqeuslSFEe"
      },
      "source": [
        "##Cleaning Age Column ('Na' , Change Type to Int, Truncate Age digit)"
      ]
    },
    {
      "cell_type": "code",
      "execution_count": null,
      "metadata": {
        "id": "GUFryf0FRGkM"
      },
      "outputs": [],
      "source": [
        "#Ubah [age] from float to int\n",
        "df_temp['age'] = df_temp['age'].astype('Int64')"
      ]
    },
    {
      "cell_type": "code",
      "execution_count": null,
      "metadata": {
        "id": "RmhX56kMSPMY"
      },
      "outputs": [],
      "source": [
        "#Karena missing value [age] hanya 3 maka di drop saja karena tidak akan mempengaruhi data\n",
        "df_temp = df_temp.dropna(subset=['age'])"
      ]
    },
    {
      "cell_type": "code",
      "execution_count": null,
      "metadata": {
        "id": "Dl-_YfmA4wW9"
      },
      "outputs": [],
      "source": [
        "#Truncate 3 Digit age jadi 2 di awal\n",
        "df_temp['age'] = df_temp['age'].apply(lambda x: int(str(int(x))[:2]) if x >= 100 else int(x))"
      ]
    },
    {
      "cell_type": "markdown",
      "metadata": {
        "id": "aWOMpKDBA9Nb"
      },
      "source": [
        "## Cleaning Married Status Column (typo status, Fill NA)"
      ]
    },
    {
      "cell_type": "code",
      "execution_count": null,
      "metadata": {
        "id": "qlpnuyVuBBYU"
      },
      "outputs": [],
      "source": [
        "df_temp['martial_status'] = df_temp['martial_status'].str.replace('divored', 'divorced')"
      ]
    },
    {
      "cell_type": "code",
      "execution_count": null,
      "metadata": {
        "id": "KPMOzf8jzIny"
      },
      "outputs": [],
      "source": [
        "cleaner = SimpleImputer(strategy='constant', fill_value = 'Null')\n",
        "df_temp['martial_status'] = cleaner.fit_transform(df_temp['martial_status'].values.reshape(-1, 1)).flatten()"
      ]
    },
    {
      "cell_type": "markdown",
      "metadata": {
        "id": "8330ZaYMwPLG"
      },
      "source": [
        "## Cleaning Phone Number Column (Fill Na, Replace invalid number)"
      ]
    },
    {
      "cell_type": "code",
      "execution_count": null,
      "metadata": {
        "id": "aFYYNHYfwTzG"
      },
      "outputs": [],
      "source": [
        "cleaner = SimpleImputer(strategy='constant', fill_value = 'Nan')\n",
        "df_temp['phone'] = cleaner.fit_transform(df_temp['phone'].values.reshape(-1, 1)).flatten()"
      ]
    },
    {
      "cell_type": "code",
      "execution_count": null,
      "metadata": {
        "id": "d9rQ7aF-EGYO"
      },
      "outputs": [],
      "source": [
        "#Phone Number <12\n",
        "def validate_phone(phone):\n",
        "    if len(str(phone)) < 12:\n",
        "        return np.nan\n",
        "    return phone"
      ]
    },
    {
      "cell_type": "code",
      "execution_count": null,
      "metadata": {
        "id": "v9s7d_qyHVTg"
      },
      "outputs": [],
      "source": [
        "df_temp['phone'] = df_temp['phone'].apply(validate_phone)"
      ]
    },
    {
      "cell_type": "markdown",
      "metadata": {
        "id": "T1hntvJwzxQe"
      },
      "source": [
        "##Cleaning Job Tittle (Fill Na, Trim Roman Number)"
      ]
    },
    {
      "cell_type": "code",
      "execution_count": null,
      "metadata": {
        "id": "hpvXVjUYz5GE"
      },
      "outputs": [],
      "source": [
        "cleaner = SimpleImputer(strategy='constant', fill_value = 'Null')\n",
        "df_temp['job_title'] = cleaner.fit_transform(df_temp['job_title'].values.reshape(-1, 1)).flatten()"
      ]
    },
    {
      "cell_type": "code",
      "execution_count": null,
      "metadata": {
        "collapsed": true,
        "id": "0ja1_mTm1lyS"
      },
      "outputs": [],
      "source": [
        "# def function Cleaning nama yang ada extra space dan special char dan di jadikan lowercase semua\n",
        "def job_title_clean(job) :\n",
        "  return  re.sub(r'\\b[IVXLCDM]+\\b', '', job).strip()"
      ]
    },
    {
      "cell_type": "code",
      "execution_count": null,
      "metadata": {
        "colab": {
          "base_uri": "https://localhost:8080/"
        },
        "id": "0iMV_HK0-Ncq",
        "outputId": "92b26bb8-fbb1-4d5a-e7e1-59eb634ce2eb"
      },
      "outputs": [
        {
          "output_type": "stream",
          "name": "stderr",
          "text": [
            "/usr/local/lib/python3.10/dist-packages/ipykernel/ipkernel.py:283: DeprecationWarning: `should_run_async` will not call `transform_cell` automatically in the future. Please pass the result to `transformed_cell` argument and any exception that happen during thetransform in `preprocessing_exc_tuple` in IPython 7.17 and above.\n",
            "  and should_run_async(code)\n"
          ]
        },
        {
          "output_type": "execute_result",
          "data": {
            "text/plain": [
              "                full_name  age martial_status                         email  \\\n",
              "0              addie lush   40        married         alush0@shutterfly.com   \n",
              "1            rock cradick   46        married        rcradick1@newsvine.com   \n",
              "2          sydel sharvell   46       divorced       ssharvell2@amazon.co.jp   \n",
              "3   constantin de la cruz   35           Null             co3@bloglines.com   \n",
              "4          gaylor redhole   38        married        gredhole4@japanpost.jp   \n",
              "5           wanda del mar   44         single       wkunzel5@slideshare.net   \n",
              "6           joann kenealy   41        married       jkenealy6@bloomberg.com   \n",
              "7            joete cudiff   51      separated      jcudiff7@ycombinator.com   \n",
              "8     mendie alexandrescu   46         single      malexandrescu8@state.gov   \n",
              "9               fey kloss   52        married           fkloss9@godaddy.com   \n",
              "10          darwin ventam   42        married           dventama@uol.com.br   \n",
              "11        mohandas peever   38         single               mpeeverb@ed.gov   \n",
              "12           mandie olwen   29         single              molwenc@phoca.cz   \n",
              "13       evania cadwaladr   32         single         ecadwaladrd@patch.com   \n",
              "14        karlene omailey   48         single             komaileye@ftc.gov   \n",
              "15   annamaria crossgrove   55        married       acrossgrovef@amazon.com   \n",
              "16        horten peasnone   47      separated      hpeasnoneg@indiegogo.com   \n",
              "17            kerr dorkin   41       divorced             kdorkinh@admin.ch   \n",
              "18            ed hambribe   38       divorced       ehambribei@china.com.cn   \n",
              "19        geoffry bouette   33        married            gbouettej@live.com   \n",
              "20         morrie overell   37       divorced     moverellk@nydailynews.com   \n",
              "21        damaris dioniso   34        married          ddionisol@utexas.edu   \n",
              "22         luciana calvey   52      separated        lcalveym@biglobe.ne.jp   \n",
              "23         danila wiggans   43        married         dwiggansn@archive.org   \n",
              "24            zara brandi   33       divorced          zbrandio@booking.com   \n",
              "25          nixie january   44           Null            njanuaryp@youtu.be   \n",
              "26        orran de cleyne   47      separated            odeq@angelfire.com   \n",
              "27       garrik maestrini   48         single       gmaestrinir@addthis.com   \n",
              "28      babara emanulsson   50      separated      bemanulssons@yahoo.co.jp   \n",
              "29         sayre pridding   49         single             spriddingt@hp.com   \n",
              "30        pamelina penney   40       divorced             ppenneyu@yale.edu   \n",
              "31    malorie swalteridge   39       divorced  mswalteridgev@feedburner.com   \n",
              "32         pippo masserel   31         single            pmasserelw@mapy.cz   \n",
              "33       thibaut gillison   37      separated         tgillisonx@amazon.com   \n",
              "34              bent gipp   53        married               bgippy@xing.com   \n",
              "35       dorrie kornyakov   41        married            dkornyakovz@nhs.uk   \n",
              "36           brenna wharf   33      separated           bwharf10@elpais.com   \n",
              "37         tannie gillitt   50        married            tgillitt11@umn.edu   \n",
              "38         elisa whiteley   45       divorced           ewhiteley12@nps.gov   \n",
              "39        sheppard tolley   54        married       stolley13@geocities.com   \n",
              "40         viola stonnell   36         single           vstonnell14@unc.edu   \n",
              "41        ephrem braunter   26        married         ebraunter15@state.gov   \n",
              "42         jard lorentzen   30        married   jlorentzen16@yellowbook.com   \n",
              "43    reamonn shirtcliffe   55       divorced    rshirtcliffe17@youtube.com   \n",
              "44         hartwell champ   33      separated         hchamp18@so-net.ne.jp   \n",
              "45       annamaria justis   29        married             ajustis19@mlb.com   \n",
              "46          marlo perigoe   48         single       mperigoe1a@geocities.jp   \n",
              "47          angel cusiter   36         single           acusiter1b@nasa.gov   \n",
              "48       gaynor whitfield   45       divorced           gwhitfield1c@ca.gov   \n",
              "49          marla serjent   29       divorced           mserjent1d@ucla.edu   \n",
              "\n",
              "           phone                                      full_address  \\\n",
              "0   254-389-8708                   3226 Eastlawn Pass,Temple,Texas   \n",
              "1   910-566-2007      4 Harbort Avenue,Fayetteville,North Carolina   \n",
              "2   702-187-8715                   4 School Place,Las Vegas,Nevada   \n",
              "3   402-688-7162                6 Monument Crossing,Omaha,Nebraska   \n",
              "4   917-394-6001           88 Cherokee Pass,New York City,New York   \n",
              "5   937-467-6942                  10864 Buhler Plaza,Hamilton,Ohio   \n",
              "6   513-726-9885                 733 Hagan Parkway,Cincinnati,Ohio   \n",
              "7   616-617-0965            975 Dwight Plaza,Grand Rapids,Michigan   \n",
              "8   504-918-4753       34 Delladonna Terrace,New Orleans,Louisiana   \n",
              "9   808-177-0318                 8976 Jackson Park,Honolulu,Hawaii   \n",
              "10  203-993-0118           2254 Express Hill,New Haven,Connecticut   \n",
              "11  805-968-3034             0 Lukken Plaza,Bakersfield,California   \n",
              "12  612-914-2658     61 Blue Bill Park Plaza,Minneapolis,Minnesota   \n",
              "13  702-364-0009  98965 Riverside Terrace,Santa Barbara,California   \n",
              "14  608-659-4566          45583 Spenser Junction,Madison,Wisconsin   \n",
              "15  818-861-1707                487 Buell Lane,Glendale,California   \n",
              "16  405-571-6677            7 Hansons Trail,Oklahoma City,Oklahoma   \n",
              "17  702-560-2980                 75 Basil Terrace,Las Vegas,Nevada   \n",
              "18  770-167-4852         04354 Graceland Junction,Marietta,Georgia   \n",
              "19  361-160-6496               53 Knutson Way,Corpus Christi,Texas   \n",
              "20  513-379-6486                53061 Hoffman Park,Cincinnati,Ohio   \n",
              "21  415-558-5275          5 Eagan Terrace,San Francisco,Kalifornia   \n",
              "22  972-929-2731                 288 Anzinger Parkway,Dallas,Texas   \n",
              "23  202-702-7529              58796 Veith Avenue,Bethesda,Maryland   \n",
              "24  714-921-3262            07 David Alley,Garden Grove,California   \n",
              "25  415-318-7190        65 Stephen Circle,San Francisco,California   \n",
              "26  754-335-9080           58445 Hovde Drive,Pompano Beach,Florida   \n",
              "27  716-896-8482           8042 Continental Point,Buffalo,New York   \n",
              "28  331-774-0714                  3 Graedel Avenue,Aurora,Illinois   \n",
              "29  757-769-6377                   5 Leroy Center,Suffolk,Virginia   \n",
              "30  304-142-2436    93 American Ash Court,Huntington,West Virginia   \n",
              "31  785-600-5180                9130 Saint Paul Park,Topeka,Kansas   \n",
              "32  573-939-4684               23 Rutledge Alley,Columbia,Missouri   \n",
              "33  612-566-0886             1 Laurel Terrace,Saint Paul,Minnesota   \n",
              "34  843-853-3476        60249 Havey Hill,Charleston,South Carolina   \n",
              "35  719-320-1792             500 Prairie Rose Road,Pueblo,Colorado   \n",
              "36  612-530-7599            63 Springs Drive,Minneapolis,Minnesota   \n",
              "37  407-502-6151     5175 International Junction,Kissimmee,Florida   \n",
              "38  772-413-2366            72 Dottie Junction,Fort Pierce,Florida   \n",
              "39  312-741-0306              28200 Lakewood Pass,Chicago,Illinois   \n",
              "40  240-331-4912              78146 Monument Circle,Bowie,Maryland   \n",
              "41  859-422-6180             74155 Dexter Point,Lexington,Kentucky   \n",
              "42  303-605-3081                9683 Mifflin Plaza,Denver,Colorado   \n",
              "43  513-318-7270                     764 Hoard Way,Cincinnati,Ohio   \n",
              "44  210-444-4874                  0 Dottie Drive,San Antonio,Texas   \n",
              "45  702-672-9694               730 Armistice Pass,Las Vegas,Nevada   \n",
              "46  260-987-6437              53 Bobwhite Drive,Fort Wayne,Indiana   \n",
              "47  650-428-8744        683 Westerfield Court,Sunnyvale,California   \n",
              "48  253-304-0914         760 Killdeer Avenue,San Juan, Puerto Rico   \n",
              "49  704-894-7167          503 Moland Hill,Charlotte,North Carolina   \n",
              "\n",
              "                               job_title membership_date  \n",
              "0                    Assistant Professor       7/31/2013  \n",
              "1                             Programmer       5/27/2018  \n",
              "2              Budget/Accounting Analyst       10/6/2017  \n",
              "3             Desktop Support Technician      10/20/2015  \n",
              "4                        Legal Assistant       5/29/2019  \n",
              "5              Human Resources Assistant       3/24/2015  \n",
              "6                             Accountant       4/17/2013  \n",
              "7                         Research Nurse      11/16/2014  \n",
              "8                  Systems Administrator       3/12/1921  \n",
              "9                      Chemical Engineer       11/5/2014  \n",
              "10                     Chemical Engineer       3/12/2017  \n",
              "11                            Programmer        8/1/2015  \n",
              "12  Business Systems Development Analyst       6/16/2019  \n",
              "13                  Accounting Assistant       3/18/2017  \n",
              "14                            Programmer       7/16/2021  \n",
              "15                        Tax Accountant       7/10/2018  \n",
              "16            Quality Control Specialist       6/10/2019  \n",
              "17              Senior Financial Analyst       5/16/2021  \n",
              "18         Community Outreach Specialist       6/18/2014  \n",
              "19                 Systems Administrator      11/19/2014  \n",
              "20                          Web Designer       8/15/2018  \n",
              "21              Environmental Specialist       2/21/2012  \n",
              "22                Nuclear Power Engineer        6/3/2022  \n",
              "23               GIS Technical Architect      10/30/2021  \n",
              "24         Community Outreach Specialist      10/24/2012  \n",
              "25                     Chemical Engineer       7/29/2017  \n",
              "26                     Safety Technician      10/11/2021  \n",
              "27                     Financial Analyst       4/24/2018  \n",
              "28                     Financial Analyst       9/27/2019  \n",
              "29                          Food Chemist        6/8/2017  \n",
              "30                 VP Product Management       3/19/2013  \n",
              "31                 Systems Administrator       9/22/2013  \n",
              "32                        Tax Accountant       2/17/2015  \n",
              "33                          Food Chemist       7/13/2014  \n",
              "34                   Clinical Specialist        4/6/2017  \n",
              "35                             Professor       4/19/2019  \n",
              "36                         Social Worker      11/21/2018  \n",
              "37                      Quality Engineer       5/25/2020  \n",
              "38         Community Outreach Specialist        9/1/2016  \n",
              "39                    VP Quality Control        2/5/2014  \n",
              "40               GIS Technical Architect        4/8/2015  \n",
              "41                                  Null      11/20/2016  \n",
              "42             Human Resources Assistant      10/30/2018  \n",
              "43                     Marketing Manager        2/5/2016  \n",
              "44                    Help Desk Operator        3/9/2022  \n",
              "45                              Engineer       3/11/2016  \n",
              "46                             Librarian       2/21/2015  \n",
              "47                             Professor        9/5/2014  \n",
              "48                    Speech Pathologist       10/9/2017  \n",
              "49              Computer Systems Analyst       3/11/2015  "
            ],
            "text/html": [
              "\n",
              "  <div id=\"df-3128a9f0-5cf6-4c81-89b7-d7b97b7274f3\" class=\"colab-df-container\">\n",
              "    <div>\n",
              "<style scoped>\n",
              "    .dataframe tbody tr th:only-of-type {\n",
              "        vertical-align: middle;\n",
              "    }\n",
              "\n",
              "    .dataframe tbody tr th {\n",
              "        vertical-align: top;\n",
              "    }\n",
              "\n",
              "    .dataframe thead th {\n",
              "        text-align: right;\n",
              "    }\n",
              "</style>\n",
              "<table border=\"1\" class=\"dataframe\">\n",
              "  <thead>\n",
              "    <tr style=\"text-align: right;\">\n",
              "      <th></th>\n",
              "      <th>full_name</th>\n",
              "      <th>age</th>\n",
              "      <th>martial_status</th>\n",
              "      <th>email</th>\n",
              "      <th>phone</th>\n",
              "      <th>full_address</th>\n",
              "      <th>job_title</th>\n",
              "      <th>membership_date</th>\n",
              "    </tr>\n",
              "  </thead>\n",
              "  <tbody>\n",
              "    <tr>\n",
              "      <th>0</th>\n",
              "      <td>addie lush</td>\n",
              "      <td>40</td>\n",
              "      <td>married</td>\n",
              "      <td>alush0@shutterfly.com</td>\n",
              "      <td>254-389-8708</td>\n",
              "      <td>3226 Eastlawn Pass,Temple,Texas</td>\n",
              "      <td>Assistant Professor</td>\n",
              "      <td>7/31/2013</td>\n",
              "    </tr>\n",
              "    <tr>\n",
              "      <th>1</th>\n",
              "      <td>rock cradick</td>\n",
              "      <td>46</td>\n",
              "      <td>married</td>\n",
              "      <td>rcradick1@newsvine.com</td>\n",
              "      <td>910-566-2007</td>\n",
              "      <td>4 Harbort Avenue,Fayetteville,North Carolina</td>\n",
              "      <td>Programmer</td>\n",
              "      <td>5/27/2018</td>\n",
              "    </tr>\n",
              "    <tr>\n",
              "      <th>2</th>\n",
              "      <td>sydel sharvell</td>\n",
              "      <td>46</td>\n",
              "      <td>divorced</td>\n",
              "      <td>ssharvell2@amazon.co.jp</td>\n",
              "      <td>702-187-8715</td>\n",
              "      <td>4 School Place,Las Vegas,Nevada</td>\n",
              "      <td>Budget/Accounting Analyst</td>\n",
              "      <td>10/6/2017</td>\n",
              "    </tr>\n",
              "    <tr>\n",
              "      <th>3</th>\n",
              "      <td>constantin de la cruz</td>\n",
              "      <td>35</td>\n",
              "      <td>Null</td>\n",
              "      <td>co3@bloglines.com</td>\n",
              "      <td>402-688-7162</td>\n",
              "      <td>6 Monument Crossing,Omaha,Nebraska</td>\n",
              "      <td>Desktop Support Technician</td>\n",
              "      <td>10/20/2015</td>\n",
              "    </tr>\n",
              "    <tr>\n",
              "      <th>4</th>\n",
              "      <td>gaylor redhole</td>\n",
              "      <td>38</td>\n",
              "      <td>married</td>\n",
              "      <td>gredhole4@japanpost.jp</td>\n",
              "      <td>917-394-6001</td>\n",
              "      <td>88 Cherokee Pass,New York City,New York</td>\n",
              "      <td>Legal Assistant</td>\n",
              "      <td>5/29/2019</td>\n",
              "    </tr>\n",
              "    <tr>\n",
              "      <th>5</th>\n",
              "      <td>wanda del mar</td>\n",
              "      <td>44</td>\n",
              "      <td>single</td>\n",
              "      <td>wkunzel5@slideshare.net</td>\n",
              "      <td>937-467-6942</td>\n",
              "      <td>10864 Buhler Plaza,Hamilton,Ohio</td>\n",
              "      <td>Human Resources Assistant</td>\n",
              "      <td>3/24/2015</td>\n",
              "    </tr>\n",
              "    <tr>\n",
              "      <th>6</th>\n",
              "      <td>joann kenealy</td>\n",
              "      <td>41</td>\n",
              "      <td>married</td>\n",
              "      <td>jkenealy6@bloomberg.com</td>\n",
              "      <td>513-726-9885</td>\n",
              "      <td>733 Hagan Parkway,Cincinnati,Ohio</td>\n",
              "      <td>Accountant</td>\n",
              "      <td>4/17/2013</td>\n",
              "    </tr>\n",
              "    <tr>\n",
              "      <th>7</th>\n",
              "      <td>joete cudiff</td>\n",
              "      <td>51</td>\n",
              "      <td>separated</td>\n",
              "      <td>jcudiff7@ycombinator.com</td>\n",
              "      <td>616-617-0965</td>\n",
              "      <td>975 Dwight Plaza,Grand Rapids,Michigan</td>\n",
              "      <td>Research Nurse</td>\n",
              "      <td>11/16/2014</td>\n",
              "    </tr>\n",
              "    <tr>\n",
              "      <th>8</th>\n",
              "      <td>mendie alexandrescu</td>\n",
              "      <td>46</td>\n",
              "      <td>single</td>\n",
              "      <td>malexandrescu8@state.gov</td>\n",
              "      <td>504-918-4753</td>\n",
              "      <td>34 Delladonna Terrace,New Orleans,Louisiana</td>\n",
              "      <td>Systems Administrator</td>\n",
              "      <td>3/12/1921</td>\n",
              "    </tr>\n",
              "    <tr>\n",
              "      <th>9</th>\n",
              "      <td>fey kloss</td>\n",
              "      <td>52</td>\n",
              "      <td>married</td>\n",
              "      <td>fkloss9@godaddy.com</td>\n",
              "      <td>808-177-0318</td>\n",
              "      <td>8976 Jackson Park,Honolulu,Hawaii</td>\n",
              "      <td>Chemical Engineer</td>\n",
              "      <td>11/5/2014</td>\n",
              "    </tr>\n",
              "    <tr>\n",
              "      <th>10</th>\n",
              "      <td>darwin ventam</td>\n",
              "      <td>42</td>\n",
              "      <td>married</td>\n",
              "      <td>dventama@uol.com.br</td>\n",
              "      <td>203-993-0118</td>\n",
              "      <td>2254 Express Hill,New Haven,Connecticut</td>\n",
              "      <td>Chemical Engineer</td>\n",
              "      <td>3/12/2017</td>\n",
              "    </tr>\n",
              "    <tr>\n",
              "      <th>11</th>\n",
              "      <td>mohandas peever</td>\n",
              "      <td>38</td>\n",
              "      <td>single</td>\n",
              "      <td>mpeeverb@ed.gov</td>\n",
              "      <td>805-968-3034</td>\n",
              "      <td>0 Lukken Plaza,Bakersfield,California</td>\n",
              "      <td>Programmer</td>\n",
              "      <td>8/1/2015</td>\n",
              "    </tr>\n",
              "    <tr>\n",
              "      <th>12</th>\n",
              "      <td>mandie olwen</td>\n",
              "      <td>29</td>\n",
              "      <td>single</td>\n",
              "      <td>molwenc@phoca.cz</td>\n",
              "      <td>612-914-2658</td>\n",
              "      <td>61 Blue Bill Park Plaza,Minneapolis,Minnesota</td>\n",
              "      <td>Business Systems Development Analyst</td>\n",
              "      <td>6/16/2019</td>\n",
              "    </tr>\n",
              "    <tr>\n",
              "      <th>13</th>\n",
              "      <td>evania cadwaladr</td>\n",
              "      <td>32</td>\n",
              "      <td>single</td>\n",
              "      <td>ecadwaladrd@patch.com</td>\n",
              "      <td>702-364-0009</td>\n",
              "      <td>98965 Riverside Terrace,Santa Barbara,California</td>\n",
              "      <td>Accounting Assistant</td>\n",
              "      <td>3/18/2017</td>\n",
              "    </tr>\n",
              "    <tr>\n",
              "      <th>14</th>\n",
              "      <td>karlene omailey</td>\n",
              "      <td>48</td>\n",
              "      <td>single</td>\n",
              "      <td>komaileye@ftc.gov</td>\n",
              "      <td>608-659-4566</td>\n",
              "      <td>45583 Spenser Junction,Madison,Wisconsin</td>\n",
              "      <td>Programmer</td>\n",
              "      <td>7/16/2021</td>\n",
              "    </tr>\n",
              "    <tr>\n",
              "      <th>15</th>\n",
              "      <td>annamaria crossgrove</td>\n",
              "      <td>55</td>\n",
              "      <td>married</td>\n",
              "      <td>acrossgrovef@amazon.com</td>\n",
              "      <td>818-861-1707</td>\n",
              "      <td>487 Buell Lane,Glendale,California</td>\n",
              "      <td>Tax Accountant</td>\n",
              "      <td>7/10/2018</td>\n",
              "    </tr>\n",
              "    <tr>\n",
              "      <th>16</th>\n",
              "      <td>horten peasnone</td>\n",
              "      <td>47</td>\n",
              "      <td>separated</td>\n",
              "      <td>hpeasnoneg@indiegogo.com</td>\n",
              "      <td>405-571-6677</td>\n",
              "      <td>7 Hansons Trail,Oklahoma City,Oklahoma</td>\n",
              "      <td>Quality Control Specialist</td>\n",
              "      <td>6/10/2019</td>\n",
              "    </tr>\n",
              "    <tr>\n",
              "      <th>17</th>\n",
              "      <td>kerr dorkin</td>\n",
              "      <td>41</td>\n",
              "      <td>divorced</td>\n",
              "      <td>kdorkinh@admin.ch</td>\n",
              "      <td>702-560-2980</td>\n",
              "      <td>75 Basil Terrace,Las Vegas,Nevada</td>\n",
              "      <td>Senior Financial Analyst</td>\n",
              "      <td>5/16/2021</td>\n",
              "    </tr>\n",
              "    <tr>\n",
              "      <th>18</th>\n",
              "      <td>ed hambribe</td>\n",
              "      <td>38</td>\n",
              "      <td>divorced</td>\n",
              "      <td>ehambribei@china.com.cn</td>\n",
              "      <td>770-167-4852</td>\n",
              "      <td>04354 Graceland Junction,Marietta,Georgia</td>\n",
              "      <td>Community Outreach Specialist</td>\n",
              "      <td>6/18/2014</td>\n",
              "    </tr>\n",
              "    <tr>\n",
              "      <th>19</th>\n",
              "      <td>geoffry bouette</td>\n",
              "      <td>33</td>\n",
              "      <td>married</td>\n",
              "      <td>gbouettej@live.com</td>\n",
              "      <td>361-160-6496</td>\n",
              "      <td>53 Knutson Way,Corpus Christi,Texas</td>\n",
              "      <td>Systems Administrator</td>\n",
              "      <td>11/19/2014</td>\n",
              "    </tr>\n",
              "    <tr>\n",
              "      <th>20</th>\n",
              "      <td>morrie overell</td>\n",
              "      <td>37</td>\n",
              "      <td>divorced</td>\n",
              "      <td>moverellk@nydailynews.com</td>\n",
              "      <td>513-379-6486</td>\n",
              "      <td>53061 Hoffman Park,Cincinnati,Ohio</td>\n",
              "      <td>Web Designer</td>\n",
              "      <td>8/15/2018</td>\n",
              "    </tr>\n",
              "    <tr>\n",
              "      <th>21</th>\n",
              "      <td>damaris dioniso</td>\n",
              "      <td>34</td>\n",
              "      <td>married</td>\n",
              "      <td>ddionisol@utexas.edu</td>\n",
              "      <td>415-558-5275</td>\n",
              "      <td>5 Eagan Terrace,San Francisco,Kalifornia</td>\n",
              "      <td>Environmental Specialist</td>\n",
              "      <td>2/21/2012</td>\n",
              "    </tr>\n",
              "    <tr>\n",
              "      <th>22</th>\n",
              "      <td>luciana calvey</td>\n",
              "      <td>52</td>\n",
              "      <td>separated</td>\n",
              "      <td>lcalveym@biglobe.ne.jp</td>\n",
              "      <td>972-929-2731</td>\n",
              "      <td>288 Anzinger Parkway,Dallas,Texas</td>\n",
              "      <td>Nuclear Power Engineer</td>\n",
              "      <td>6/3/2022</td>\n",
              "    </tr>\n",
              "    <tr>\n",
              "      <th>23</th>\n",
              "      <td>danila wiggans</td>\n",
              "      <td>43</td>\n",
              "      <td>married</td>\n",
              "      <td>dwiggansn@archive.org</td>\n",
              "      <td>202-702-7529</td>\n",
              "      <td>58796 Veith Avenue,Bethesda,Maryland</td>\n",
              "      <td>GIS Technical Architect</td>\n",
              "      <td>10/30/2021</td>\n",
              "    </tr>\n",
              "    <tr>\n",
              "      <th>24</th>\n",
              "      <td>zara brandi</td>\n",
              "      <td>33</td>\n",
              "      <td>divorced</td>\n",
              "      <td>zbrandio@booking.com</td>\n",
              "      <td>714-921-3262</td>\n",
              "      <td>07 David Alley,Garden Grove,California</td>\n",
              "      <td>Community Outreach Specialist</td>\n",
              "      <td>10/24/2012</td>\n",
              "    </tr>\n",
              "    <tr>\n",
              "      <th>25</th>\n",
              "      <td>nixie january</td>\n",
              "      <td>44</td>\n",
              "      <td>Null</td>\n",
              "      <td>njanuaryp@youtu.be</td>\n",
              "      <td>415-318-7190</td>\n",
              "      <td>65 Stephen Circle,San Francisco,California</td>\n",
              "      <td>Chemical Engineer</td>\n",
              "      <td>7/29/2017</td>\n",
              "    </tr>\n",
              "    <tr>\n",
              "      <th>26</th>\n",
              "      <td>orran de cleyne</td>\n",
              "      <td>47</td>\n",
              "      <td>separated</td>\n",
              "      <td>odeq@angelfire.com</td>\n",
              "      <td>754-335-9080</td>\n",
              "      <td>58445 Hovde Drive,Pompano Beach,Florida</td>\n",
              "      <td>Safety Technician</td>\n",
              "      <td>10/11/2021</td>\n",
              "    </tr>\n",
              "    <tr>\n",
              "      <th>27</th>\n",
              "      <td>garrik maestrini</td>\n",
              "      <td>48</td>\n",
              "      <td>single</td>\n",
              "      <td>gmaestrinir@addthis.com</td>\n",
              "      <td>716-896-8482</td>\n",
              "      <td>8042 Continental Point,Buffalo,New York</td>\n",
              "      <td>Financial Analyst</td>\n",
              "      <td>4/24/2018</td>\n",
              "    </tr>\n",
              "    <tr>\n",
              "      <th>28</th>\n",
              "      <td>babara emanulsson</td>\n",
              "      <td>50</td>\n",
              "      <td>separated</td>\n",
              "      <td>bemanulssons@yahoo.co.jp</td>\n",
              "      <td>331-774-0714</td>\n",
              "      <td>3 Graedel Avenue,Aurora,Illinois</td>\n",
              "      <td>Financial Analyst</td>\n",
              "      <td>9/27/2019</td>\n",
              "    </tr>\n",
              "    <tr>\n",
              "      <th>29</th>\n",
              "      <td>sayre pridding</td>\n",
              "      <td>49</td>\n",
              "      <td>single</td>\n",
              "      <td>spriddingt@hp.com</td>\n",
              "      <td>757-769-6377</td>\n",
              "      <td>5 Leroy Center,Suffolk,Virginia</td>\n",
              "      <td>Food Chemist</td>\n",
              "      <td>6/8/2017</td>\n",
              "    </tr>\n",
              "    <tr>\n",
              "      <th>30</th>\n",
              "      <td>pamelina penney</td>\n",
              "      <td>40</td>\n",
              "      <td>divorced</td>\n",
              "      <td>ppenneyu@yale.edu</td>\n",
              "      <td>304-142-2436</td>\n",
              "      <td>93 American Ash Court,Huntington,West Virginia</td>\n",
              "      <td>VP Product Management</td>\n",
              "      <td>3/19/2013</td>\n",
              "    </tr>\n",
              "    <tr>\n",
              "      <th>31</th>\n",
              "      <td>malorie swalteridge</td>\n",
              "      <td>39</td>\n",
              "      <td>divorced</td>\n",
              "      <td>mswalteridgev@feedburner.com</td>\n",
              "      <td>785-600-5180</td>\n",
              "      <td>9130 Saint Paul Park,Topeka,Kansas</td>\n",
              "      <td>Systems Administrator</td>\n",
              "      <td>9/22/2013</td>\n",
              "    </tr>\n",
              "    <tr>\n",
              "      <th>32</th>\n",
              "      <td>pippo masserel</td>\n",
              "      <td>31</td>\n",
              "      <td>single</td>\n",
              "      <td>pmasserelw@mapy.cz</td>\n",
              "      <td>573-939-4684</td>\n",
              "      <td>23 Rutledge Alley,Columbia,Missouri</td>\n",
              "      <td>Tax Accountant</td>\n",
              "      <td>2/17/2015</td>\n",
              "    </tr>\n",
              "    <tr>\n",
              "      <th>33</th>\n",
              "      <td>thibaut gillison</td>\n",
              "      <td>37</td>\n",
              "      <td>separated</td>\n",
              "      <td>tgillisonx@amazon.com</td>\n",
              "      <td>612-566-0886</td>\n",
              "      <td>1 Laurel Terrace,Saint Paul,Minnesota</td>\n",
              "      <td>Food Chemist</td>\n",
              "      <td>7/13/2014</td>\n",
              "    </tr>\n",
              "    <tr>\n",
              "      <th>34</th>\n",
              "      <td>bent gipp</td>\n",
              "      <td>53</td>\n",
              "      <td>married</td>\n",
              "      <td>bgippy@xing.com</td>\n",
              "      <td>843-853-3476</td>\n",
              "      <td>60249 Havey Hill,Charleston,South Carolina</td>\n",
              "      <td>Clinical Specialist</td>\n",
              "      <td>4/6/2017</td>\n",
              "    </tr>\n",
              "    <tr>\n",
              "      <th>35</th>\n",
              "      <td>dorrie kornyakov</td>\n",
              "      <td>41</td>\n",
              "      <td>married</td>\n",
              "      <td>dkornyakovz@nhs.uk</td>\n",
              "      <td>719-320-1792</td>\n",
              "      <td>500 Prairie Rose Road,Pueblo,Colorado</td>\n",
              "      <td>Professor</td>\n",
              "      <td>4/19/2019</td>\n",
              "    </tr>\n",
              "    <tr>\n",
              "      <th>36</th>\n",
              "      <td>brenna wharf</td>\n",
              "      <td>33</td>\n",
              "      <td>separated</td>\n",
              "      <td>bwharf10@elpais.com</td>\n",
              "      <td>612-530-7599</td>\n",
              "      <td>63 Springs Drive,Minneapolis,Minnesota</td>\n",
              "      <td>Social Worker</td>\n",
              "      <td>11/21/2018</td>\n",
              "    </tr>\n",
              "    <tr>\n",
              "      <th>37</th>\n",
              "      <td>tannie gillitt</td>\n",
              "      <td>50</td>\n",
              "      <td>married</td>\n",
              "      <td>tgillitt11@umn.edu</td>\n",
              "      <td>407-502-6151</td>\n",
              "      <td>5175 International Junction,Kissimmee,Florida</td>\n",
              "      <td>Quality Engineer</td>\n",
              "      <td>5/25/2020</td>\n",
              "    </tr>\n",
              "    <tr>\n",
              "      <th>38</th>\n",
              "      <td>elisa whiteley</td>\n",
              "      <td>45</td>\n",
              "      <td>divorced</td>\n",
              "      <td>ewhiteley12@nps.gov</td>\n",
              "      <td>772-413-2366</td>\n",
              "      <td>72 Dottie Junction,Fort Pierce,Florida</td>\n",
              "      <td>Community Outreach Specialist</td>\n",
              "      <td>9/1/2016</td>\n",
              "    </tr>\n",
              "    <tr>\n",
              "      <th>39</th>\n",
              "      <td>sheppard tolley</td>\n",
              "      <td>54</td>\n",
              "      <td>married</td>\n",
              "      <td>stolley13@geocities.com</td>\n",
              "      <td>312-741-0306</td>\n",
              "      <td>28200 Lakewood Pass,Chicago,Illinois</td>\n",
              "      <td>VP Quality Control</td>\n",
              "      <td>2/5/2014</td>\n",
              "    </tr>\n",
              "    <tr>\n",
              "      <th>40</th>\n",
              "      <td>viola stonnell</td>\n",
              "      <td>36</td>\n",
              "      <td>single</td>\n",
              "      <td>vstonnell14@unc.edu</td>\n",
              "      <td>240-331-4912</td>\n",
              "      <td>78146 Monument Circle,Bowie,Maryland</td>\n",
              "      <td>GIS Technical Architect</td>\n",
              "      <td>4/8/2015</td>\n",
              "    </tr>\n",
              "    <tr>\n",
              "      <th>41</th>\n",
              "      <td>ephrem braunter</td>\n",
              "      <td>26</td>\n",
              "      <td>married</td>\n",
              "      <td>ebraunter15@state.gov</td>\n",
              "      <td>859-422-6180</td>\n",
              "      <td>74155 Dexter Point,Lexington,Kentucky</td>\n",
              "      <td>Null</td>\n",
              "      <td>11/20/2016</td>\n",
              "    </tr>\n",
              "    <tr>\n",
              "      <th>42</th>\n",
              "      <td>jard lorentzen</td>\n",
              "      <td>30</td>\n",
              "      <td>married</td>\n",
              "      <td>jlorentzen16@yellowbook.com</td>\n",
              "      <td>303-605-3081</td>\n",
              "      <td>9683 Mifflin Plaza,Denver,Colorado</td>\n",
              "      <td>Human Resources Assistant</td>\n",
              "      <td>10/30/2018</td>\n",
              "    </tr>\n",
              "    <tr>\n",
              "      <th>43</th>\n",
              "      <td>reamonn shirtcliffe</td>\n",
              "      <td>55</td>\n",
              "      <td>divorced</td>\n",
              "      <td>rshirtcliffe17@youtube.com</td>\n",
              "      <td>513-318-7270</td>\n",
              "      <td>764 Hoard Way,Cincinnati,Ohio</td>\n",
              "      <td>Marketing Manager</td>\n",
              "      <td>2/5/2016</td>\n",
              "    </tr>\n",
              "    <tr>\n",
              "      <th>44</th>\n",
              "      <td>hartwell champ</td>\n",
              "      <td>33</td>\n",
              "      <td>separated</td>\n",
              "      <td>hchamp18@so-net.ne.jp</td>\n",
              "      <td>210-444-4874</td>\n",
              "      <td>0 Dottie Drive,San Antonio,Texas</td>\n",
              "      <td>Help Desk Operator</td>\n",
              "      <td>3/9/2022</td>\n",
              "    </tr>\n",
              "    <tr>\n",
              "      <th>45</th>\n",
              "      <td>annamaria justis</td>\n",
              "      <td>29</td>\n",
              "      <td>married</td>\n",
              "      <td>ajustis19@mlb.com</td>\n",
              "      <td>702-672-9694</td>\n",
              "      <td>730 Armistice Pass,Las Vegas,Nevada</td>\n",
              "      <td>Engineer</td>\n",
              "      <td>3/11/2016</td>\n",
              "    </tr>\n",
              "    <tr>\n",
              "      <th>46</th>\n",
              "      <td>marlo perigoe</td>\n",
              "      <td>48</td>\n",
              "      <td>single</td>\n",
              "      <td>mperigoe1a@geocities.jp</td>\n",
              "      <td>260-987-6437</td>\n",
              "      <td>53 Bobwhite Drive,Fort Wayne,Indiana</td>\n",
              "      <td>Librarian</td>\n",
              "      <td>2/21/2015</td>\n",
              "    </tr>\n",
              "    <tr>\n",
              "      <th>47</th>\n",
              "      <td>angel cusiter</td>\n",
              "      <td>36</td>\n",
              "      <td>single</td>\n",
              "      <td>acusiter1b@nasa.gov</td>\n",
              "      <td>650-428-8744</td>\n",
              "      <td>683 Westerfield Court,Sunnyvale,California</td>\n",
              "      <td>Professor</td>\n",
              "      <td>9/5/2014</td>\n",
              "    </tr>\n",
              "    <tr>\n",
              "      <th>48</th>\n",
              "      <td>gaynor whitfield</td>\n",
              "      <td>45</td>\n",
              "      <td>divorced</td>\n",
              "      <td>gwhitfield1c@ca.gov</td>\n",
              "      <td>253-304-0914</td>\n",
              "      <td>760 Killdeer Avenue,San Juan, Puerto Rico</td>\n",
              "      <td>Speech Pathologist</td>\n",
              "      <td>10/9/2017</td>\n",
              "    </tr>\n",
              "    <tr>\n",
              "      <th>49</th>\n",
              "      <td>marla serjent</td>\n",
              "      <td>29</td>\n",
              "      <td>divorced</td>\n",
              "      <td>mserjent1d@ucla.edu</td>\n",
              "      <td>704-894-7167</td>\n",
              "      <td>503 Moland Hill,Charlotte,North Carolina</td>\n",
              "      <td>Computer Systems Analyst</td>\n",
              "      <td>3/11/2015</td>\n",
              "    </tr>\n",
              "  </tbody>\n",
              "</table>\n",
              "</div>\n",
              "    <div class=\"colab-df-buttons\">\n",
              "\n",
              "  <div class=\"colab-df-container\">\n",
              "    <button class=\"colab-df-convert\" onclick=\"convertToInteractive('df-3128a9f0-5cf6-4c81-89b7-d7b97b7274f3')\"\n",
              "            title=\"Convert this dataframe to an interactive table.\"\n",
              "            style=\"display:none;\">\n",
              "\n",
              "  <svg xmlns=\"http://www.w3.org/2000/svg\" height=\"24px\" viewBox=\"0 -960 960 960\">\n",
              "    <path d=\"M120-120v-720h720v720H120Zm60-500h600v-160H180v160Zm220 220h160v-160H400v160Zm0 220h160v-160H400v160ZM180-400h160v-160H180v160Zm440 0h160v-160H620v160ZM180-180h160v-160H180v160Zm440 0h160v-160H620v160Z\"/>\n",
              "  </svg>\n",
              "    </button>\n",
              "\n",
              "  <style>\n",
              "    .colab-df-container {\n",
              "      display:flex;\n",
              "      gap: 12px;\n",
              "    }\n",
              "\n",
              "    .colab-df-convert {\n",
              "      background-color: #E8F0FE;\n",
              "      border: none;\n",
              "      border-radius: 50%;\n",
              "      cursor: pointer;\n",
              "      display: none;\n",
              "      fill: #1967D2;\n",
              "      height: 32px;\n",
              "      padding: 0 0 0 0;\n",
              "      width: 32px;\n",
              "    }\n",
              "\n",
              "    .colab-df-convert:hover {\n",
              "      background-color: #E2EBFA;\n",
              "      box-shadow: 0px 1px 2px rgba(60, 64, 67, 0.3), 0px 1px 3px 1px rgba(60, 64, 67, 0.15);\n",
              "      fill: #174EA6;\n",
              "    }\n",
              "\n",
              "    .colab-df-buttons div {\n",
              "      margin-bottom: 4px;\n",
              "    }\n",
              "\n",
              "    [theme=dark] .colab-df-convert {\n",
              "      background-color: #3B4455;\n",
              "      fill: #D2E3FC;\n",
              "    }\n",
              "\n",
              "    [theme=dark] .colab-df-convert:hover {\n",
              "      background-color: #434B5C;\n",
              "      box-shadow: 0px 1px 3px 1px rgba(0, 0, 0, 0.15);\n",
              "      filter: drop-shadow(0px 1px 2px rgba(0, 0, 0, 0.3));\n",
              "      fill: #FFFFFF;\n",
              "    }\n",
              "  </style>\n",
              "\n",
              "    <script>\n",
              "      const buttonEl =\n",
              "        document.querySelector('#df-3128a9f0-5cf6-4c81-89b7-d7b97b7274f3 button.colab-df-convert');\n",
              "      buttonEl.style.display =\n",
              "        google.colab.kernel.accessAllowed ? 'block' : 'none';\n",
              "\n",
              "      async function convertToInteractive(key) {\n",
              "        const element = document.querySelector('#df-3128a9f0-5cf6-4c81-89b7-d7b97b7274f3');\n",
              "        const dataTable =\n",
              "          await google.colab.kernel.invokeFunction('convertToInteractive',\n",
              "                                                    [key], {});\n",
              "        if (!dataTable) return;\n",
              "\n",
              "        const docLinkHtml = 'Like what you see? Visit the ' +\n",
              "          '<a target=\"_blank\" href=https://colab.research.google.com/notebooks/data_table.ipynb>data table notebook</a>'\n",
              "          + ' to learn more about interactive tables.';\n",
              "        element.innerHTML = '';\n",
              "        dataTable['output_type'] = 'display_data';\n",
              "        await google.colab.output.renderOutput(dataTable, element);\n",
              "        const docLink = document.createElement('div');\n",
              "        docLink.innerHTML = docLinkHtml;\n",
              "        element.appendChild(docLink);\n",
              "      }\n",
              "    </script>\n",
              "  </div>\n",
              "\n",
              "\n",
              "<div id=\"df-4825eb53-2d3f-42b1-abe7-af61eb2b13b5\">\n",
              "  <button class=\"colab-df-quickchart\" onclick=\"quickchart('df-4825eb53-2d3f-42b1-abe7-af61eb2b13b5')\"\n",
              "            title=\"Suggest charts\"\n",
              "            style=\"display:none;\">\n",
              "\n",
              "<svg xmlns=\"http://www.w3.org/2000/svg\" height=\"24px\"viewBox=\"0 0 24 24\"\n",
              "     width=\"24px\">\n",
              "    <g>\n",
              "        <path d=\"M19 3H5c-1.1 0-2 .9-2 2v14c0 1.1.9 2 2 2h14c1.1 0 2-.9 2-2V5c0-1.1-.9-2-2-2zM9 17H7v-7h2v7zm4 0h-2V7h2v10zm4 0h-2v-4h2v4z\"/>\n",
              "    </g>\n",
              "</svg>\n",
              "  </button>\n",
              "\n",
              "<style>\n",
              "  .colab-df-quickchart {\n",
              "      --bg-color: #E8F0FE;\n",
              "      --fill-color: #1967D2;\n",
              "      --hover-bg-color: #E2EBFA;\n",
              "      --hover-fill-color: #174EA6;\n",
              "      --disabled-fill-color: #AAA;\n",
              "      --disabled-bg-color: #DDD;\n",
              "  }\n",
              "\n",
              "  [theme=dark] .colab-df-quickchart {\n",
              "      --bg-color: #3B4455;\n",
              "      --fill-color: #D2E3FC;\n",
              "      --hover-bg-color: #434B5C;\n",
              "      --hover-fill-color: #FFFFFF;\n",
              "      --disabled-bg-color: #3B4455;\n",
              "      --disabled-fill-color: #666;\n",
              "  }\n",
              "\n",
              "  .colab-df-quickchart {\n",
              "    background-color: var(--bg-color);\n",
              "    border: none;\n",
              "    border-radius: 50%;\n",
              "    cursor: pointer;\n",
              "    display: none;\n",
              "    fill: var(--fill-color);\n",
              "    height: 32px;\n",
              "    padding: 0;\n",
              "    width: 32px;\n",
              "  }\n",
              "\n",
              "  .colab-df-quickchart:hover {\n",
              "    background-color: var(--hover-bg-color);\n",
              "    box-shadow: 0 1px 2px rgba(60, 64, 67, 0.3), 0 1px 3px 1px rgba(60, 64, 67, 0.15);\n",
              "    fill: var(--button-hover-fill-color);\n",
              "  }\n",
              "\n",
              "  .colab-df-quickchart-complete:disabled,\n",
              "  .colab-df-quickchart-complete:disabled:hover {\n",
              "    background-color: var(--disabled-bg-color);\n",
              "    fill: var(--disabled-fill-color);\n",
              "    box-shadow: none;\n",
              "  }\n",
              "\n",
              "  .colab-df-spinner {\n",
              "    border: 2px solid var(--fill-color);\n",
              "    border-color: transparent;\n",
              "    border-bottom-color: var(--fill-color);\n",
              "    animation:\n",
              "      spin 1s steps(1) infinite;\n",
              "  }\n",
              "\n",
              "  @keyframes spin {\n",
              "    0% {\n",
              "      border-color: transparent;\n",
              "      border-bottom-color: var(--fill-color);\n",
              "      border-left-color: var(--fill-color);\n",
              "    }\n",
              "    20% {\n",
              "      border-color: transparent;\n",
              "      border-left-color: var(--fill-color);\n",
              "      border-top-color: var(--fill-color);\n",
              "    }\n",
              "    30% {\n",
              "      border-color: transparent;\n",
              "      border-left-color: var(--fill-color);\n",
              "      border-top-color: var(--fill-color);\n",
              "      border-right-color: var(--fill-color);\n",
              "    }\n",
              "    40% {\n",
              "      border-color: transparent;\n",
              "      border-right-color: var(--fill-color);\n",
              "      border-top-color: var(--fill-color);\n",
              "    }\n",
              "    60% {\n",
              "      border-color: transparent;\n",
              "      border-right-color: var(--fill-color);\n",
              "    }\n",
              "    80% {\n",
              "      border-color: transparent;\n",
              "      border-right-color: var(--fill-color);\n",
              "      border-bottom-color: var(--fill-color);\n",
              "    }\n",
              "    90% {\n",
              "      border-color: transparent;\n",
              "      border-bottom-color: var(--fill-color);\n",
              "    }\n",
              "  }\n",
              "</style>\n",
              "\n",
              "  <script>\n",
              "    async function quickchart(key) {\n",
              "      const quickchartButtonEl =\n",
              "        document.querySelector('#' + key + ' button');\n",
              "      quickchartButtonEl.disabled = true;  // To prevent multiple clicks.\n",
              "      quickchartButtonEl.classList.add('colab-df-spinner');\n",
              "      try {\n",
              "        const charts = await google.colab.kernel.invokeFunction(\n",
              "            'suggestCharts', [key], {});\n",
              "      } catch (error) {\n",
              "        console.error('Error during call to suggestCharts:', error);\n",
              "      }\n",
              "      quickchartButtonEl.classList.remove('colab-df-spinner');\n",
              "      quickchartButtonEl.classList.add('colab-df-quickchart-complete');\n",
              "    }\n",
              "    (() => {\n",
              "      let quickchartButtonEl =\n",
              "        document.querySelector('#df-4825eb53-2d3f-42b1-abe7-af61eb2b13b5 button');\n",
              "      quickchartButtonEl.style.display =\n",
              "        google.colab.kernel.accessAllowed ? 'block' : 'none';\n",
              "    })();\n",
              "  </script>\n",
              "</div>\n",
              "\n",
              "    </div>\n",
              "  </div>\n"
            ],
            "application/vnd.google.colaboratory.intrinsic+json": {
              "type": "dataframe",
              "variable_name": "df_temp",
              "summary": "{\n  \"name\": \"df_temp\",\n  \"rows\": 2007,\n  \"fields\": [\n    {\n      \"column\": \"full_name\",\n      \"properties\": {\n        \"dtype\": \"string\",\n        \"num_unique_values\": 1997,\n        \"samples\": [\n          \"drusie jendrich\",\n          \"daffi mcpeake\",\n          \"katinka vanin\"\n        ],\n        \"semantic_type\": \"\",\n        \"description\": \"\"\n      }\n    },\n    {\n      \"column\": \"age\",\n      \"properties\": {\n        \"dtype\": \"number\",\n        \"std\": 12,\n        \"min\": 18,\n        \"max\": 68,\n        \"num_unique_values\": 51,\n        \"samples\": [\n          60,\n          21,\n          57\n        ],\n        \"semantic_type\": \"\",\n        \"description\": \"\"\n      }\n    },\n    {\n      \"column\": \"martial_status\",\n      \"properties\": {\n        \"dtype\": \"category\",\n        \"num_unique_values\": 5,\n        \"samples\": [\n          \"divorced\",\n          \"separated\",\n          \"Null\"\n        ],\n        \"semantic_type\": \"\",\n        \"description\": \"\"\n      }\n    },\n    {\n      \"column\": \"email\",\n      \"properties\": {\n        \"dtype\": \"string\",\n        \"num_unique_values\": 1997,\n        \"samples\": [\n          \"djendrich74@ehow.com\",\n          \"dmcpeake9s@meetup.com\",\n          \"kvanin8a@cbslocal.com\"\n        ],\n        \"semantic_type\": \"\",\n        \"description\": \"\"\n      }\n    },\n    {\n      \"column\": \"phone\",\n      \"properties\": {\n        \"dtype\": \"string\",\n        \"num_unique_values\": 1983,\n        \"samples\": [\n          \"916-285-3281\",\n          \"713-962-5300\",\n          \"224-192-9116\"\n        ],\n        \"semantic_type\": \"\",\n        \"description\": \"\"\n      }\n    },\n    {\n      \"column\": \"full_address\",\n      \"properties\": {\n        \"dtype\": \"string\",\n        \"num_unique_values\": 1992,\n        \"samples\": [\n          \"4226 International Street,Salt Lake City,Utah\",\n          \"4 Express Way,Dallas,Texas\",\n          \"9765 Daystar Trail,Cincinnati,Ohio\"\n        ],\n        \"semantic_type\": \"\",\n        \"description\": \"\"\n      }\n    },\n    {\n      \"column\": \"job_title\",\n      \"properties\": {\n        \"dtype\": \"category\",\n        \"num_unique_values\": 115,\n        \"samples\": [\n          \"Compensation Analyst\",\n          \"Legal Assistant\",\n          \"Information Systems Manager\"\n        ],\n        \"semantic_type\": \"\",\n        \"description\": \"\"\n      }\n    },\n    {\n      \"column\": \"membership_date\",\n      \"properties\": {\n        \"dtype\": \"object\",\n        \"num_unique_values\": 1533,\n        \"samples\": [\n          \"7/27/2014\",\n          \"7/23/2019\",\n          \"6/22/2018\"\n        ],\n        \"semantic_type\": \"\",\n        \"description\": \"\"\n      }\n    }\n  ]\n}"
            }
          },
          "metadata": {},
          "execution_count": 33
        }
      ],
      "source": [
        "df_temp['job_title'] = df_temp['job_title'].apply(job_title_clean)\n",
        "df_temp.head(50)"
      ]
    },
    {
      "cell_type": "markdown",
      "metadata": {
        "id": "rEdA1kreIwqO"
      },
      "source": [
        "##Cleaning Membership Date Column (replace year < 2000)"
      ]
    },
    {
      "cell_type": "code",
      "execution_count": null,
      "metadata": {
        "id": "0VjLLac8JEyn"
      },
      "outputs": [],
      "source": [
        "df_temp['membership_date'] = pd.to_datetime(df_temp['membership_date'])"
      ]
    },
    {
      "cell_type": "code",
      "execution_count": null,
      "metadata": {
        "id": "fF5VR28XLYpa"
      },
      "outputs": [],
      "source": [
        "df_temp['membership_date'] = df_temp['membership_date'].apply(lambda x: x.replace(year=2000) if x.year < 2000 else x)"
      ]
    },
    {
      "cell_type": "markdown",
      "metadata": {
        "id": "09751FJQ0FdW"
      },
      "source": [
        "##Optional untuk Filling All Categorical menyeluruh all data frame"
      ]
    },
    {
      "cell_type": "code",
      "execution_count": null,
      "metadata": {
        "id": "b3Rz_laP0NOZ"
      },
      "outputs": [],
      "source": [
        "df_temp = df_temp.fillna(0)"
      ]
    },
    {
      "cell_type": "markdown",
      "metadata": {
        "id": "ChCRRgR_wGwy"
      },
      "source": [
        "##Missing Value DF_Temp"
      ]
    },
    {
      "cell_type": "code",
      "execution_count": null,
      "metadata": {
        "colab": {
          "base_uri": "https://localhost:8080/"
        },
        "id": "T4cS_Qa_vrJG",
        "outputId": "c5984f4c-5371-4f7f-a540-eb2c321e6ded"
      },
      "outputs": [
        {
          "output_type": "stream",
          "name": "stderr",
          "text": [
            "/usr/local/lib/python3.10/dist-packages/ipykernel/ipkernel.py:283: DeprecationWarning: `should_run_async` will not call `transform_cell` automatically in the future. Please pass the result to `transformed_cell` argument and any exception that happen during thetransform in `preprocessing_exc_tuple` in IPython 7.17 and above.\n",
            "  and should_run_async(code)\n"
          ]
        },
        {
          "output_type": "execute_result",
          "data": {
            "text/plain": [
              "          variable  missing values  filling factor (%)\n",
              "0            phone              14           99.302441\n",
              "1        full_name               0          100.000000\n",
              "2              age               0          100.000000\n",
              "3   martial_status               0          100.000000\n",
              "4            email               0          100.000000\n",
              "5     full_address               0          100.000000\n",
              "6        job_title               0          100.000000\n",
              "7  membership_date               0          100.000000"
            ],
            "text/html": [
              "\n",
              "  <div id=\"df-ab11e57c-e36e-4a1e-a6b9-8fd80449edb1\" class=\"colab-df-container\">\n",
              "    <div>\n",
              "<style scoped>\n",
              "    .dataframe tbody tr th:only-of-type {\n",
              "        vertical-align: middle;\n",
              "    }\n",
              "\n",
              "    .dataframe tbody tr th {\n",
              "        vertical-align: top;\n",
              "    }\n",
              "\n",
              "    .dataframe thead th {\n",
              "        text-align: right;\n",
              "    }\n",
              "</style>\n",
              "<table border=\"1\" class=\"dataframe\">\n",
              "  <thead>\n",
              "    <tr style=\"text-align: right;\">\n",
              "      <th></th>\n",
              "      <th>variable</th>\n",
              "      <th>missing values</th>\n",
              "      <th>filling factor (%)</th>\n",
              "    </tr>\n",
              "  </thead>\n",
              "  <tbody>\n",
              "    <tr>\n",
              "      <th>0</th>\n",
              "      <td>phone</td>\n",
              "      <td>14</td>\n",
              "      <td>99.302441</td>\n",
              "    </tr>\n",
              "    <tr>\n",
              "      <th>1</th>\n",
              "      <td>full_name</td>\n",
              "      <td>0</td>\n",
              "      <td>100.000000</td>\n",
              "    </tr>\n",
              "    <tr>\n",
              "      <th>2</th>\n",
              "      <td>age</td>\n",
              "      <td>0</td>\n",
              "      <td>100.000000</td>\n",
              "    </tr>\n",
              "    <tr>\n",
              "      <th>3</th>\n",
              "      <td>martial_status</td>\n",
              "      <td>0</td>\n",
              "      <td>100.000000</td>\n",
              "    </tr>\n",
              "    <tr>\n",
              "      <th>4</th>\n",
              "      <td>email</td>\n",
              "      <td>0</td>\n",
              "      <td>100.000000</td>\n",
              "    </tr>\n",
              "    <tr>\n",
              "      <th>5</th>\n",
              "      <td>full_address</td>\n",
              "      <td>0</td>\n",
              "      <td>100.000000</td>\n",
              "    </tr>\n",
              "    <tr>\n",
              "      <th>6</th>\n",
              "      <td>job_title</td>\n",
              "      <td>0</td>\n",
              "      <td>100.000000</td>\n",
              "    </tr>\n",
              "    <tr>\n",
              "      <th>7</th>\n",
              "      <td>membership_date</td>\n",
              "      <td>0</td>\n",
              "      <td>100.000000</td>\n",
              "    </tr>\n",
              "  </tbody>\n",
              "</table>\n",
              "</div>\n",
              "    <div class=\"colab-df-buttons\">\n",
              "\n",
              "  <div class=\"colab-df-container\">\n",
              "    <button class=\"colab-df-convert\" onclick=\"convertToInteractive('df-ab11e57c-e36e-4a1e-a6b9-8fd80449edb1')\"\n",
              "            title=\"Convert this dataframe to an interactive table.\"\n",
              "            style=\"display:none;\">\n",
              "\n",
              "  <svg xmlns=\"http://www.w3.org/2000/svg\" height=\"24px\" viewBox=\"0 -960 960 960\">\n",
              "    <path d=\"M120-120v-720h720v720H120Zm60-500h600v-160H180v160Zm220 220h160v-160H400v160Zm0 220h160v-160H400v160ZM180-400h160v-160H180v160Zm440 0h160v-160H620v160ZM180-180h160v-160H180v160Zm440 0h160v-160H620v160Z\"/>\n",
              "  </svg>\n",
              "    </button>\n",
              "\n",
              "  <style>\n",
              "    .colab-df-container {\n",
              "      display:flex;\n",
              "      gap: 12px;\n",
              "    }\n",
              "\n",
              "    .colab-df-convert {\n",
              "      background-color: #E8F0FE;\n",
              "      border: none;\n",
              "      border-radius: 50%;\n",
              "      cursor: pointer;\n",
              "      display: none;\n",
              "      fill: #1967D2;\n",
              "      height: 32px;\n",
              "      padding: 0 0 0 0;\n",
              "      width: 32px;\n",
              "    }\n",
              "\n",
              "    .colab-df-convert:hover {\n",
              "      background-color: #E2EBFA;\n",
              "      box-shadow: 0px 1px 2px rgba(60, 64, 67, 0.3), 0px 1px 3px 1px rgba(60, 64, 67, 0.15);\n",
              "      fill: #174EA6;\n",
              "    }\n",
              "\n",
              "    .colab-df-buttons div {\n",
              "      margin-bottom: 4px;\n",
              "    }\n",
              "\n",
              "    [theme=dark] .colab-df-convert {\n",
              "      background-color: #3B4455;\n",
              "      fill: #D2E3FC;\n",
              "    }\n",
              "\n",
              "    [theme=dark] .colab-df-convert:hover {\n",
              "      background-color: #434B5C;\n",
              "      box-shadow: 0px 1px 3px 1px rgba(0, 0, 0, 0.15);\n",
              "      filter: drop-shadow(0px 1px 2px rgba(0, 0, 0, 0.3));\n",
              "      fill: #FFFFFF;\n",
              "    }\n",
              "  </style>\n",
              "\n",
              "    <script>\n",
              "      const buttonEl =\n",
              "        document.querySelector('#df-ab11e57c-e36e-4a1e-a6b9-8fd80449edb1 button.colab-df-convert');\n",
              "      buttonEl.style.display =\n",
              "        google.colab.kernel.accessAllowed ? 'block' : 'none';\n",
              "\n",
              "      async function convertToInteractive(key) {\n",
              "        const element = document.querySelector('#df-ab11e57c-e36e-4a1e-a6b9-8fd80449edb1');\n",
              "        const dataTable =\n",
              "          await google.colab.kernel.invokeFunction('convertToInteractive',\n",
              "                                                    [key], {});\n",
              "        if (!dataTable) return;\n",
              "\n",
              "        const docLinkHtml = 'Like what you see? Visit the ' +\n",
              "          '<a target=\"_blank\" href=https://colab.research.google.com/notebooks/data_table.ipynb>data table notebook</a>'\n",
              "          + ' to learn more about interactive tables.';\n",
              "        element.innerHTML = '';\n",
              "        dataTable['output_type'] = 'display_data';\n",
              "        await google.colab.output.renderOutput(dataTable, element);\n",
              "        const docLink = document.createElement('div');\n",
              "        docLink.innerHTML = docLinkHtml;\n",
              "        element.appendChild(docLink);\n",
              "      }\n",
              "    </script>\n",
              "  </div>\n",
              "\n",
              "\n",
              "<div id=\"df-58e903d9-ba78-4293-a78c-4391c01bf55b\">\n",
              "  <button class=\"colab-df-quickchart\" onclick=\"quickchart('df-58e903d9-ba78-4293-a78c-4391c01bf55b')\"\n",
              "            title=\"Suggest charts\"\n",
              "            style=\"display:none;\">\n",
              "\n",
              "<svg xmlns=\"http://www.w3.org/2000/svg\" height=\"24px\"viewBox=\"0 0 24 24\"\n",
              "     width=\"24px\">\n",
              "    <g>\n",
              "        <path d=\"M19 3H5c-1.1 0-2 .9-2 2v14c0 1.1.9 2 2 2h14c1.1 0 2-.9 2-2V5c0-1.1-.9-2-2-2zM9 17H7v-7h2v7zm4 0h-2V7h2v10zm4 0h-2v-4h2v4z\"/>\n",
              "    </g>\n",
              "</svg>\n",
              "  </button>\n",
              "\n",
              "<style>\n",
              "  .colab-df-quickchart {\n",
              "      --bg-color: #E8F0FE;\n",
              "      --fill-color: #1967D2;\n",
              "      --hover-bg-color: #E2EBFA;\n",
              "      --hover-fill-color: #174EA6;\n",
              "      --disabled-fill-color: #AAA;\n",
              "      --disabled-bg-color: #DDD;\n",
              "  }\n",
              "\n",
              "  [theme=dark] .colab-df-quickchart {\n",
              "      --bg-color: #3B4455;\n",
              "      --fill-color: #D2E3FC;\n",
              "      --hover-bg-color: #434B5C;\n",
              "      --hover-fill-color: #FFFFFF;\n",
              "      --disabled-bg-color: #3B4455;\n",
              "      --disabled-fill-color: #666;\n",
              "  }\n",
              "\n",
              "  .colab-df-quickchart {\n",
              "    background-color: var(--bg-color);\n",
              "    border: none;\n",
              "    border-radius: 50%;\n",
              "    cursor: pointer;\n",
              "    display: none;\n",
              "    fill: var(--fill-color);\n",
              "    height: 32px;\n",
              "    padding: 0;\n",
              "    width: 32px;\n",
              "  }\n",
              "\n",
              "  .colab-df-quickchart:hover {\n",
              "    background-color: var(--hover-bg-color);\n",
              "    box-shadow: 0 1px 2px rgba(60, 64, 67, 0.3), 0 1px 3px 1px rgba(60, 64, 67, 0.15);\n",
              "    fill: var(--button-hover-fill-color);\n",
              "  }\n",
              "\n",
              "  .colab-df-quickchart-complete:disabled,\n",
              "  .colab-df-quickchart-complete:disabled:hover {\n",
              "    background-color: var(--disabled-bg-color);\n",
              "    fill: var(--disabled-fill-color);\n",
              "    box-shadow: none;\n",
              "  }\n",
              "\n",
              "  .colab-df-spinner {\n",
              "    border: 2px solid var(--fill-color);\n",
              "    border-color: transparent;\n",
              "    border-bottom-color: var(--fill-color);\n",
              "    animation:\n",
              "      spin 1s steps(1) infinite;\n",
              "  }\n",
              "\n",
              "  @keyframes spin {\n",
              "    0% {\n",
              "      border-color: transparent;\n",
              "      border-bottom-color: var(--fill-color);\n",
              "      border-left-color: var(--fill-color);\n",
              "    }\n",
              "    20% {\n",
              "      border-color: transparent;\n",
              "      border-left-color: var(--fill-color);\n",
              "      border-top-color: var(--fill-color);\n",
              "    }\n",
              "    30% {\n",
              "      border-color: transparent;\n",
              "      border-left-color: var(--fill-color);\n",
              "      border-top-color: var(--fill-color);\n",
              "      border-right-color: var(--fill-color);\n",
              "    }\n",
              "    40% {\n",
              "      border-color: transparent;\n",
              "      border-right-color: var(--fill-color);\n",
              "      border-top-color: var(--fill-color);\n",
              "    }\n",
              "    60% {\n",
              "      border-color: transparent;\n",
              "      border-right-color: var(--fill-color);\n",
              "    }\n",
              "    80% {\n",
              "      border-color: transparent;\n",
              "      border-right-color: var(--fill-color);\n",
              "      border-bottom-color: var(--fill-color);\n",
              "    }\n",
              "    90% {\n",
              "      border-color: transparent;\n",
              "      border-bottom-color: var(--fill-color);\n",
              "    }\n",
              "  }\n",
              "</style>\n",
              "\n",
              "  <script>\n",
              "    async function quickchart(key) {\n",
              "      const quickchartButtonEl =\n",
              "        document.querySelector('#' + key + ' button');\n",
              "      quickchartButtonEl.disabled = true;  // To prevent multiple clicks.\n",
              "      quickchartButtonEl.classList.add('colab-df-spinner');\n",
              "      try {\n",
              "        const charts = await google.colab.kernel.invokeFunction(\n",
              "            'suggestCharts', [key], {});\n",
              "      } catch (error) {\n",
              "        console.error('Error during call to suggestCharts:', error);\n",
              "      }\n",
              "      quickchartButtonEl.classList.remove('colab-df-spinner');\n",
              "      quickchartButtonEl.classList.add('colab-df-quickchart-complete');\n",
              "    }\n",
              "    (() => {\n",
              "      let quickchartButtonEl =\n",
              "        document.querySelector('#df-58e903d9-ba78-4293-a78c-4391c01bf55b button');\n",
              "      quickchartButtonEl.style.display =\n",
              "        google.colab.kernel.accessAllowed ? 'block' : 'none';\n",
              "    })();\n",
              "  </script>\n",
              "</div>\n",
              "\n",
              "    </div>\n",
              "  </div>\n"
            ],
            "application/vnd.google.colaboratory.intrinsic+json": {
              "type": "dataframe",
              "summary": "{\n  \"name\": \"find_missing_value(df_temp)\",\n  \"rows\": 8,\n  \"fields\": [\n    {\n      \"column\": \"variable\",\n      \"properties\": {\n        \"dtype\": \"string\",\n        \"num_unique_values\": 8,\n        \"samples\": [\n          \"full_name\",\n          \"full_address\",\n          \"phone\"\n        ],\n        \"semantic_type\": \"\",\n        \"description\": \"\"\n      }\n    },\n    {\n      \"column\": \"missing values\",\n      \"properties\": {\n        \"dtype\": \"number\",\n        \"std\": 4,\n        \"min\": 0,\n        \"max\": 14,\n        \"num_unique_values\": 2,\n        \"samples\": [\n          0,\n          14\n        ],\n        \"semantic_type\": \"\",\n        \"description\": \"\"\n      }\n    },\n    {\n      \"column\": \"filling factor (%)\",\n      \"properties\": {\n        \"dtype\": \"number\",\n        \"std\": 0.2466241887546507,\n        \"min\": 99.30244145490782,\n        \"max\": 100.0,\n        \"num_unique_values\": 2,\n        \"samples\": [\n          100.0,\n          99.30244145490782\n        ],\n        \"semantic_type\": \"\",\n        \"description\": \"\"\n      }\n    }\n  ]\n}"
            }
          },
          "metadata": {},
          "execution_count": 36
        }
      ],
      "source": [
        "def find_missing_value(data_frame):\n",
        "    missing_data = data_frame.isnull().sum(axis=0).reset_index()\n",
        "    missing_data.columns = ['variable', 'missing values']\n",
        "    missing_data['filling factor (%)'] = (data_frame.shape[0]-missing_data['missing values'])/data_frame.shape[0]*100\n",
        "    return missing_data.sort_values('filling factor (%)').reset_index(drop = True)\n",
        "\n",
        "find_missing_value(df_temp)"
      ]
    },
    {
      "cell_type": "markdown",
      "metadata": {
        "id": "aOuxqTEK88PF"
      },
      "source": [
        "##Remove Duplicate"
      ]
    },
    {
      "cell_type": "code",
      "execution_count": null,
      "metadata": {
        "id": "MOvUr-YBvEV9"
      },
      "outputs": [],
      "source": [
        "df_temp = df_temp.drop_duplicates(subset=['full_name'],keep = 'first')"
      ]
    },
    {
      "cell_type": "markdown",
      "metadata": {
        "id": "KyQhYMvN57i0"
      },
      "source": [
        "remove dupe sort by dupe name, keep first"
      ]
    },
    {
      "cell_type": "code",
      "execution_count": null,
      "metadata": {
        "colab": {
          "base_uri": "https://localhost:8080/"
        },
        "id": "kE6F_q_ZxHrG",
        "outputId": "a8efd8f5-5255-400f-d301-a9d8c149363f"
      },
      "outputs": [
        {
          "output_type": "stream",
          "name": "stdout",
          "text": [
            "<class 'pandas.core.frame.DataFrame'>\n",
            "Index: 1997 entries, 0 to 2009\n",
            "Data columns (total 8 columns):\n",
            " #   Column           Non-Null Count  Dtype         \n",
            "---  ------           --------------  -----         \n",
            " 0   full_name        1997 non-null   object        \n",
            " 1   age              1997 non-null   int64         \n",
            " 2   martial_status   1997 non-null   object        \n",
            " 3   email            1997 non-null   object        \n",
            " 4   phone            1983 non-null   object        \n",
            " 5   full_address     1997 non-null   object        \n",
            " 6   job_title        1997 non-null   object        \n",
            " 7   membership_date  1997 non-null   datetime64[ns]\n",
            "dtypes: datetime64[ns](1), int64(1), object(6)\n",
            "memory usage: 140.4+ KB\n"
          ]
        },
        {
          "output_type": "stream",
          "name": "stderr",
          "text": [
            "/usr/local/lib/python3.10/dist-packages/ipykernel/ipkernel.py:283: DeprecationWarning: `should_run_async` will not call `transform_cell` automatically in the future. Please pass the result to `transformed_cell` argument and any exception that happen during thetransform in `preprocessing_exc_tuple` in IPython 7.17 and above.\n",
            "  and should_run_async(code)\n"
          ]
        }
      ],
      "source": [
        "df_temp.info()"
      ]
    },
    {
      "cell_type": "markdown",
      "metadata": {
        "id": "hEjLFmkjRoaG"
      },
      "source": [
        "## //Outlier Check"
      ]
    },
    {
      "cell_type": "code",
      "execution_count": null,
      "metadata": {
        "colab": {
          "base_uri": "https://localhost:8080/"
        },
        "id": "LTp4BUWkCkuS",
        "outputId": "7805ce50-555b-4777-aab4-6cf83c549cf9"
      },
      "outputs": [
        {
          "name": "stderr",
          "output_type": "stream",
          "text": [
            "/usr/local/lib/python3.10/dist-packages/ipykernel/ipkernel.py:283: DeprecationWarning: `should_run_async` will not call `transform_cell` automatically in the future. Please pass the result to `transformed_cell` argument and any exception that happen during thetransform in `preprocessing_exc_tuple` in IPython 7.17 and above.\n",
            "  and should_run_async(code)\n"
          ]
        },
        {
          "data": {
            "image/png": "[encoded data removed]",
            "text/plain": [
              "<Figure size 1000x800 with 1 Axes>"
            ]
          },
          "metadata": {},
          "output_type": "display_data"
        }
      ],
      "source": [
        "df_temp['age'].plot(kind='box',figsize=(10,8))\n",
        "plt.title(\"Age\")\n",
        "plt.show()"
      ]
    },
    {
      "cell_type": "markdown",
      "metadata": {
        "id": "jJ2zSC0MaoJB"
      },
      "source": [
        "Terdapat Outlier pada Age, kemungkinan terisi nya Age dengan 3 angka makan, dapat dihilangkan outlier, tetapi pada case ini akan di buang digit terakhir pada angka akibat kemungkinan typo pada pengisian"
      ]
    },
    {
      "cell_type": "markdown",
      "metadata": {
        "id": "LcOj57HQVfOG"
      },
      "source": [
        "#Import Data Cleaning"
      ]
    },
    {
      "cell_type": "code",
      "execution_count": null,
      "metadata": {
        "colab": {
          "base_uri": "https://localhost:8080/",
          "height": 106
        },
        "id": "0oWBTlIWEGtR",
        "outputId": "4108103b-ac4f-48e2-c718-8ae79c8f892a"
      },
      "outputs": [
        {
          "output_type": "stream",
          "name": "stderr",
          "text": [
            "/usr/local/lib/python3.10/dist-packages/ipykernel/ipkernel.py:283: DeprecationWarning: `should_run_async` will not call `transform_cell` automatically in the future. Please pass the result to `transformed_cell` argument and any exception that happen during thetransform in `preprocessing_exc_tuple` in IPython 7.17 and above.\n",
            "  and should_run_async(code)\n"
          ]
        },
        {
          "output_type": "stream",
          "name": "stdout",
          "text": [
            "Mounted at /content/gdrive\n"
          ]
        },
        {
          "output_type": "display_data",
          "data": {
            "text/plain": [
              "<IPython.core.display.Javascript object>"
            ],
            "application/javascript": [
              "\n",
              "    async function download(id, filename, size) {\n",
              "      if (!google.colab.kernel.accessAllowed) {\n",
              "        return;\n",
              "      }\n",
              "      const div = document.createElement('div');\n",
              "      const label = document.createElement('label');\n",
              "      label.textContent = `Downloading \"${filename}\": `;\n",
              "      div.appendChild(label);\n",
              "      const progress = document.createElement('progress');\n",
              "      progress.max = size;\n",
              "      div.appendChild(progress);\n",
              "      document.body.appendChild(div);\n",
              "\n",
              "      const buffers = [];\n",
              "      let downloaded = 0;\n",
              "\n",
              "      const channel = await google.colab.kernel.comms.open(id);\n",
              "      // Send a message to notify the kernel that we're ready.\n",
              "      channel.send({})\n",
              "\n",
              "      for await (const message of channel.messages) {\n",
              "        // Send a message to notify the kernel that we're ready.\n",
              "        channel.send({})\n",
              "        if (message.buffers) {\n",
              "          for (const buffer of message.buffers) {\n",
              "            buffers.push(buffer);\n",
              "            downloaded += buffer.byteLength;\n",
              "            progress.value = downloaded;\n",
              "          }\n",
              "        }\n",
              "      }\n",
              "      const blob = new Blob(buffers, {type: 'application/binary'});\n",
              "      const a = document.createElement('a');\n",
              "      a.href = window.URL.createObjectURL(blob);\n",
              "      a.download = filename;\n",
              "      div.appendChild(a);\n",
              "      a.click();\n",
              "      div.remove();\n",
              "    }\n",
              "  "
            ]
          },
          "metadata": {}
        },
        {
          "output_type": "display_data",
          "data": {
            "text/plain": [
              "<IPython.core.display.Javascript object>"
            ],
            "application/javascript": [
              "download(\"download_654e3164-1992-4b35-876c-9b77bb3c1b42\", \"df_temp.csv\", 270528)"
            ]
          },
          "metadata": {}
        }
      ],
      "source": [
        "from google.colab import drive\n",
        "drive.mount('/content/gdrive')\n",
        "df_temp.to_csv('/content/gdrive/MyDrive/DatasetFrame/Club Member Info/df_temp.csv', index='False')\n",
        "\n",
        "from google.colab import files\n",
        "files.download('/content/gdrive/MyDrive/DatasetFrame/Club Member Info/df_temp.csv')"
      ]
    },
    {
      "cell_type": "markdown",
      "metadata": {
        "id": "vCNovono6Mm-"
      },
      "source": [
        "#Visualization"
      ]
    },
    {
      "cell_type": "markdown",
      "metadata": {
        "id": "qjuLLYvkG7PP"
      },
      "source": [
        "## Age Distribution Histogram"
      ]
    },
    {
      "cell_type": "code",
      "execution_count": null,
      "metadata": {
        "colab": {
          "base_uri": "https://localhost:8080/"
        },
        "id": "7ew3ioJ2HMk8",
        "outputId": "d98ce1e9-e037-4f53-bcdb-2b3dfad19748"
      },
      "outputs": [
        {
          "output_type": "stream",
          "name": "stderr",
          "text": [
            "/usr/local/lib/python3.10/dist-packages/ipykernel/ipkernel.py:283: DeprecationWarning: `should_run_async` will not call `transform_cell` automatically in the future. Please pass the result to `transformed_cell` argument and any exception that happen during thetransform in `preprocessing_exc_tuple` in IPython 7.17 and above.\n",
            "  and should_run_async(code)\n"
          ]
        },
        {
          "output_type": "display_data",
          "data": {
            "text/plain": [
              "<Figure size 800x500 with 1 Axes>"
            ],
            "image/png": "[encoded data removed]"
          },
          "metadata": {}
        }
      ],
      "source": [
        "fig, ax = plt.subplots(figsize=(8,5))\n",
        "sns.histplot(df_temp['age'], bins=20, kde=True)\n",
        "plt.title('Age Distribution')\n",
        "plt.xlabel('Age')\n",
        "plt.ylabel('Frequency')\n",
        "plt.show()"
      ]
    },
    {
      "cell_type": "markdown",
      "metadata": {
        "id": "6XKyPM_C6PNr"
      },
      "source": [
        "- range member terbanyak pada usia 40 - 50\n",
        "- Terbanyak pada Age 40 = 160"
      ]
    },
    {
      "cell_type": "markdown",
      "metadata": {
        "id": "f-fMu4TOJK6C"
      },
      "source": [
        "##Marital Status Distribution Bar Chart"
      ]
    },
    {
      "cell_type": "code",
      "execution_count": null,
      "metadata": {
        "colab": {
          "base_uri": "https://localhost:8080/"
        },
        "id": "TxA1wVcuNV2u",
        "outputId": "d851f798-a897-438b-de7d-5cc16d5b328a"
      },
      "outputs": [
        {
          "output_type": "stream",
          "name": "stderr",
          "text": [
            "/usr/local/lib/python3.10/dist-packages/ipykernel/ipkernel.py:283: DeprecationWarning: `should_run_async` will not call `transform_cell` automatically in the future. Please pass the result to `transformed_cell` argument and any exception that happen during thetransform in `preprocessing_exc_tuple` in IPython 7.17 and above.\n",
            "  and should_run_async(code)\n"
          ]
        },
        {
          "output_type": "display_data",
          "data": {
            "text/plain": [
              "<Figure size 640x480 with 1 Axes>"
            ],
            "image/png": "[encoded data removed]"
          },
          "metadata": {}
        }
      ],
      "source": [
        "sns.countplot(df_temp, x=\"martial_status\", hue=\"martial_status\", stat=\"count\",order=df_temp['martial_status'].value_counts().index)\n",
        "plt.xlabel(\"Marital Status\")\n",
        "plt.ylabel(\"Count\")\n",
        "plt.title(\"Marital Status Distribution\")\n",
        "plt.show()"
      ]
    },
    {
      "cell_type": "markdown",
      "metadata": {
        "id": "td5aO6_x7vvz"
      },
      "source": [
        "- ternyata Married status lebih banyak dibandingkan Single"
      ]
    },
    {
      "cell_type": "markdown",
      "metadata": {
        "id": "_k2MdXYpMwbh"
      },
      "source": [
        "##Job Title Frequency"
      ]
    },
    {
      "cell_type": "code",
      "execution_count": null,
      "metadata": {
        "colab": {
          "base_uri": "https://localhost:8080/"
        },
        "id": "JrP_QLjX4mfz",
        "outputId": "e0f484ba-bb67-4b2d-f694-4286237aef8a"
      },
      "outputs": [
        {
          "output_type": "stream",
          "name": "stderr",
          "text": [
            "/usr/local/lib/python3.10/dist-packages/ipykernel/ipkernel.py:283: DeprecationWarning: `should_run_async` will not call `transform_cell` automatically in the future. Please pass the result to `transformed_cell` argument and any exception that happen during thetransform in `preprocessing_exc_tuple` in IPython 7.17 and above.\n",
            "  and should_run_async(code)\n"
          ]
        },
        {
          "output_type": "display_data",
          "data": {
            "text/plain": [
              "<Figure size 1000x500 with 1 Axes>"
            ],
            "image/png": "[encoded data removed]"
          },
          "metadata": {}
        }
      ],
      "source": [
        "plt.figure(figsize=(10, 5))\n",
        "sns.countplot(y='job_title', data=df_temp, order=df_temp['job_title'].value_counts().iloc[:6].index)\n",
        "plt.title('Top 5 Job Title Frequency')\n",
        "plt.xlabel('Count')\n",
        "plt.ylabel('Job Title')\n",
        "plt.show()"
      ]
    },
    {
      "cell_type": "markdown",
      "metadata": {
        "id": "voCzJpbu8Djk"
      },
      "source": [
        "- top 5 Job yang jadi member Gym\n",
        "- ternyata banyak white collar on desk yang gym kemungkinan karena sehari capek duduk\n",
        "- banyak terdapat null karena tidak di isi, mandatory pengisian harus di perketat lagi"
      ]
    },
    {
      "cell_type": "markdown",
      "metadata": {
        "id": "6kHezSwES5uh"
      },
      "source": [
        "##Membership Date Trend"
      ]
    },
    {
      "cell_type": "code",
      "execution_count": null,
      "metadata": {
        "colab": {
          "base_uri": "https://localhost:8080/"
        },
        "id": "c_B4KmqCTBvZ",
        "outputId": "e725c619-17a9-4b2a-bcec-d29fe10e1673"
      },
      "outputs": [
        {
          "output_type": "stream",
          "name": "stderr",
          "text": [
            "/usr/local/lib/python3.10/dist-packages/ipykernel/ipkernel.py:283: DeprecationWarning: `should_run_async` will not call `transform_cell` automatically in the future. Please pass the result to `transformed_cell` argument and any exception that happen during thetransform in `preprocessing_exc_tuple` in IPython 7.17 and above.\n",
            "  and should_run_async(code)\n"
          ]
        }
      ],
      "source": [
        "# Convert the membership_date column to datetime format\n",
        "df_temp['membership_date'] = pd.to_datetime(df_temp['membership_date'])"
      ]
    },
    {
      "cell_type": "code",
      "execution_count": null,
      "metadata": {
        "colab": {
          "base_uri": "https://localhost:8080/"
        },
        "id": "vRWuZZjHJuPM",
        "outputId": "90644538-af3a-4a59-84be-d9044795f7a8"
      },
      "outputs": [
        {
          "output_type": "stream",
          "name": "stderr",
          "text": [
            "/usr/local/lib/python3.10/dist-packages/ipykernel/ipkernel.py:283: DeprecationWarning: `should_run_async` will not call `transform_cell` automatically in the future. Please pass the result to `transformed_cell` argument and any exception that happen during thetransform in `preprocessing_exc_tuple` in IPython 7.17 and above.\n",
            "  and should_run_async(code)\n"
          ]
        }
      ],
      "source": [
        "#For Current years on dataset\n",
        "df_2022 = df_temp[df_temp['membership_date'].dt.year == 2022]"
      ]
    },
    {
      "cell_type": "code",
      "execution_count": null,
      "metadata": {
        "colab": {
          "base_uri": "https://localhost:8080/"
        },
        "id": "KtRQEZP-EsVb",
        "outputId": "2479b490-04b3-455e-c246-990d072f0f83"
      },
      "outputs": [
        {
          "output_type": "stream",
          "name": "stderr",
          "text": [
            "/usr/local/lib/python3.10/dist-packages/ipykernel/ipkernel.py:283: DeprecationWarning: `should_run_async` will not call `transform_cell` automatically in the future. Please pass the result to `transformed_cell` argument and any exception that happen during thetransform in `preprocessing_exc_tuple` in IPython 7.17 and above.\n",
            "  and should_run_async(code)\n"
          ]
        }
      ],
      "source": [
        "# Set the membership_date as the index\n",
        "df_2022.set_index('membership_date', inplace=True)"
      ]
    },
    {
      "cell_type": "code",
      "execution_count": null,
      "metadata": {
        "colab": {
          "base_uri": "https://localhost:8080/"
        },
        "id": "3urJkDRDE7tz",
        "outputId": "cb58f9b4-4822-4834-ae9f-99299a757278"
      },
      "outputs": [
        {
          "output_type": "stream",
          "name": "stderr",
          "text": [
            "/usr/local/lib/python3.10/dist-packages/ipykernel/ipkernel.py:283: DeprecationWarning: `should_run_async` will not call `transform_cell` automatically in the future. Please pass the result to `transformed_cell` argument and any exception that happen during thetransform in `preprocessing_exc_tuple` in IPython 7.17 and above.\n",
            "  and should_run_async(code)\n"
          ]
        }
      ],
      "source": [
        "# Resample the data by month and count the number of members per month\n",
        "membership_trends = df_2022.resample('M').size()"
      ]
    },
    {
      "cell_type": "code",
      "execution_count": null,
      "metadata": {
        "colab": {
          "base_uri": "https://localhost:8080/"
        },
        "id": "jk-vU-UDN2MX",
        "outputId": "1cc1cb43-970d-4f22-e086-327a921f424c"
      },
      "outputs": [
        {
          "output_type": "stream",
          "name": "stderr",
          "text": [
            "/usr/local/lib/python3.10/dist-packages/ipykernel/ipkernel.py:283: DeprecationWarning: `should_run_async` will not call `transform_cell` automatically in the future. Please pass the result to `transformed_cell` argument and any exception that happen during thetransform in `preprocessing_exc_tuple` in IPython 7.17 and above.\n",
            "  and should_run_async(code)\n"
          ]
        }
      ],
      "source": [
        "# Ensure the y-axis shows integer values\n",
        "from matplotlib.ticker import MaxNLocator\n",
        "ax.yaxis.set_major_locator(MaxNLocator(integer=True))"
      ]
    },
    {
      "cell_type": "code",
      "execution_count": null,
      "metadata": {
        "colab": {
          "base_uri": "https://localhost:8080/"
        },
        "id": "Vq9DY25YBn6F",
        "outputId": "116d1b22-a290-4ea9-8107-22fc21487278"
      },
      "outputs": [
        {
          "output_type": "stream",
          "name": "stderr",
          "text": [
            "/usr/local/lib/python3.10/dist-packages/ipykernel/ipkernel.py:283: DeprecationWarning: `should_run_async` will not call `transform_cell` automatically in the future. Please pass the result to `transformed_cell` argument and any exception that happen during thetransform in `preprocessing_exc_tuple` in IPython 7.17 and above.\n",
            "  and should_run_async(code)\n"
          ]
        },
        {
          "output_type": "display_data",
          "data": {
            "text/plain": [
              "<Figure size 1000x600 with 1 Axes>"
            ],
            "image/png": "[encoded data removed]"
          },
          "metadata": {}
        }
      ],
      "source": [
        "membership_trends.plot(kind='line', figsize=(10, 6))\n",
        "plt.title('Membership Date Trend 2022')\n",
        "plt.xlabel('Month')\n",
        "plt.ylabel('Member')\n",
        "#plt.legend(['Membership Trends'])\n",
        "plt.grid(True)"
      ]
    },
    {
      "cell_type": "markdown",
      "metadata": {
        "id": "ejDbXliRQLtl"
      },
      "source": [
        "##Geographic Distribution (Take the city from each adress)"
      ]
    },
    {
      "cell_type": "code",
      "execution_count": null,
      "metadata": {
        "colab": {
          "base_uri": "https://localhost:8080/"
        },
        "id": "o50HLeacQgvB",
        "outputId": "c65771bb-47bd-4bf1-e1f5-dc4c3cba34bd"
      },
      "outputs": [
        {
          "output_type": "stream",
          "name": "stderr",
          "text": [
            "/usr/local/lib/python3.10/dist-packages/ipykernel/ipkernel.py:283: DeprecationWarning: `should_run_async` will not call `transform_cell` automatically in the future. Please pass the result to `transformed_cell` argument and any exception that happen during thetransform in `preprocessing_exc_tuple` in IPython 7.17 and above.\n",
            "  and should_run_async(code)\n"
          ]
        }
      ],
      "source": [
        "# Extract the city from the full_address column\n",
        "df_temp['city'] = df_temp['full_address'].apply(lambda x: x.split(',')[1].strip())"
      ]
    },
    {
      "cell_type": "code",
      "execution_count": null,
      "metadata": {
        "colab": {
          "base_uri": "https://localhost:8080/"
        },
        "id": "cfpQ3GDQXb8s",
        "outputId": "f4496f86-39d9-4ada-db2e-2478f383cbee"
      },
      "outputs": [
        {
          "output_type": "stream",
          "name": "stderr",
          "text": [
            "/usr/local/lib/python3.10/dist-packages/ipykernel/ipkernel.py:283: DeprecationWarning: `should_run_async` will not call `transform_cell` automatically in the future. Please pass the result to `transformed_cell` argument and any exception that happen during thetransform in `preprocessing_exc_tuple` in IPython 7.17 and above.\n",
            "  and should_run_async(code)\n",
            "<ipython-input-49-1fa9aeec14e0>:3: FutureWarning: \n",
            "\n",
            "Passing `palette` without assigning `hue` is deprecated and will be removed in v0.14.0. Assign the `y` variable to `hue` and set `legend=False` for the same effect.\n",
            "\n",
            "  sns.barplot(y=city_counts.index, x=city_counts.values, palette='viridis')\n"
          ]
        },
        {
          "output_type": "display_data",
          "data": {
            "text/plain": [
              "<Figure size 1400x700 with 1 Axes>"
            ],
            "image/png": "[encoded data removed]"
          },
          "metadata": {}
        }
      ],
      "source": [
        "plt.figure(figsize=(14, 7))\n",
        "city_counts = df_temp['city'].value_counts().iloc[:6]\n",
        "sns.barplot(y=city_counts.index, x=city_counts.values, palette='viridis')\n",
        "plt.title('Geographic Distribution by City')\n",
        "plt.xlabel('Number of Members')\n",
        "plt.ylabel('City')\n",
        "plt.show()"
      ]
    },
    {
      "cell_type": "markdown",
      "metadata": {
        "id": "N0MA6cK8QaEJ"
      },
      "source": [
        "##Email Domain Analysis"
      ]
    },
    {
      "cell_type": "code",
      "execution_count": null,
      "metadata": {
        "id": "P9TjhInYQhKH",
        "colab": {
          "base_uri": "https://localhost:8080/"
        },
        "outputId": "219cd5df-6fdc-4c3f-9122-171a224e3d75"
      },
      "outputs": [
        {
          "output_type": "stream",
          "name": "stderr",
          "text": [
            "/usr/local/lib/python3.10/dist-packages/ipykernel/ipkernel.py:283: DeprecationWarning: `should_run_async` will not call `transform_cell` automatically in the future. Please pass the result to `transformed_cell` argument and any exception that happen during thetransform in `preprocessing_exc_tuple` in IPython 7.17 and above.\n",
            "  and should_run_async(code)\n"
          ]
        }
      ],
      "source": []
    },
    {
      "cell_type": "markdown",
      "source": [
        "#Features Engineering"
      ],
      "metadata": {
        "id": "hgPHoN5-smt7"
      }
    },
    {
      "cell_type": "markdown",
      "source": [
        "##Age Group"
      ],
      "metadata": {
        "id": "aTzQMwGcsv4H"
      }
    },
    {
      "cell_type": "code",
      "source": [
        "df_temp['age_group'] = pd.cut(df_temp['age'], bins=[0, 18, 25, 35, 45, 55, 65, 100], labels=['<18', '18-25', '26-35', '36-45', '46-55', '56-65', '>65'])"
      ],
      "metadata": {
        "colab": {
          "base_uri": "https://localhost:8080/"
        },
        "id": "FwSxNiY6s2-D",
        "outputId": "74243c64-83ed-4686-9625-64b71cca2dd6"
      },
      "execution_count": null,
      "outputs": [
        {
          "output_type": "stream",
          "name": "stderr",
          "text": [
            "/usr/local/lib/python3.10/dist-packages/ipykernel/ipkernel.py:283: DeprecationWarning: `should_run_async` will not call `transform_cell` automatically in the future. Please pass the result to `transformed_cell` argument and any exception that happen during thetransform in `preprocessing_exc_tuple` in IPython 7.17 and above.\n",
            "  and should_run_async(code)\n"
          ]
        }
      ]
    },
    {
      "cell_type": "markdown",
      "source": [
        "##Membership Duration"
      ],
      "metadata": {
        "id": "NCXQrEJ-syM_"
      }
    },
    {
      "cell_type": "code",
      "source": [
        "#durasi max dari paling current membership_date\n",
        "df_temp['membership_duration'] = (df_temp['membership_date'].max() - df_temp['membership_date']).dt.days"
      ],
      "metadata": {
        "colab": {
          "base_uri": "https://localhost:8080/"
        },
        "id": "cdquHfu2s7Z6",
        "outputId": "75d7b9b7-ebdb-479c-c1be-abb8f379ef37"
      },
      "execution_count": null,
      "outputs": [
        {
          "output_type": "stream",
          "name": "stderr",
          "text": [
            "/usr/local/lib/python3.10/dist-packages/ipykernel/ipkernel.py:283: DeprecationWarning: `should_run_async` will not call `transform_cell` automatically in the future. Please pass the result to `transformed_cell` argument and any exception that happen during thetransform in `preprocessing_exc_tuple` in IPython 7.17 and above.\n",
            "  and should_run_async(code)\n"
          ]
        }
      ]
    },
    {
      "cell_type": "code",
      "source": [
        "#durasi sampai hari ini dari\n",
        "df['membership_duration'] = (pd.Timestamp('now') - df['membership_date']).dt.days"
      ],
      "metadata": {
        "id": "l7Nw9CYy1jAo"
      },
      "execution_count": null,
      "outputs": []
    },
    {
      "cell_type": "markdown",
      "source": [
        "##City"
      ],
      "metadata": {
        "id": "BH_ACi8Ds8HQ"
      }
    },
    {
      "cell_type": "code",
      "source": [
        "df_temp['city'] = df_temp['full_address'].apply(lambda x: x.split(',')[1].strip())"
      ],
      "metadata": {
        "colab": {
          "base_uri": "https://localhost:8080/"
        },
        "id": "L-k2kRLcs-0R",
        "outputId": "da853f91-416a-40c1-df96-99f282b32632"
      },
      "execution_count": null,
      "outputs": [
        {
          "output_type": "stream",
          "name": "stderr",
          "text": [
            "/usr/local/lib/python3.10/dist-packages/ipykernel/ipkernel.py:283: DeprecationWarning: `should_run_async` will not call `transform_cell` automatically in the future. Please pass the result to `transformed_cell` argument and any exception that happen during thetransform in `preprocessing_exc_tuple` in IPython 7.17 and above.\n",
            "  and should_run_async(code)\n"
          ]
        }
      ]
    },
    {
      "cell_type": "markdown",
      "source": [
        "##State"
      ],
      "metadata": {
        "id": "W-ZtO7uItVfV"
      }
    },
    {
      "cell_type": "code",
      "source": [
        "df_temp['State'] = df_temp['full_address'].apply(lambda x: x.split(',')[2].strip())"
      ],
      "metadata": {
        "colab": {
          "base_uri": "https://localhost:8080/"
        },
        "id": "YSQZA5H2tZLB",
        "outputId": "69f04ee0-f354-411e-a71a-f3413c642132"
      },
      "execution_count": null,
      "outputs": [
        {
          "output_type": "stream",
          "name": "stderr",
          "text": [
            "/usr/local/lib/python3.10/dist-packages/ipykernel/ipkernel.py:283: DeprecationWarning: `should_run_async` will not call `transform_cell` automatically in the future. Please pass the result to `transformed_cell` argument and any exception that happen during thetransform in `preprocessing_exc_tuple` in IPython 7.17 and above.\n",
            "  and should_run_async(code)\n"
          ]
        }
      ]
    },
    {
      "cell_type": "markdown",
      "source": [
        "##Membership Month"
      ],
      "metadata": {
        "id": "Ioh8ZFYKtZ0J"
      }
    },
    {
      "cell_type": "code",
      "source": [
        "df_temp['membership_month'] = df_temp['membership_date'].dt.month"
      ],
      "metadata": {
        "colab": {
          "base_uri": "https://localhost:8080/"
        },
        "id": "7h9AfjKdtgZr",
        "outputId": "db9e7b94-a671-4de5-97de-d976392cff5d"
      },
      "execution_count": null,
      "outputs": [
        {
          "output_type": "stream",
          "name": "stderr",
          "text": [
            "/usr/local/lib/python3.10/dist-packages/ipykernel/ipkernel.py:283: DeprecationWarning: `should_run_async` will not call `transform_cell` automatically in the future. Please pass the result to `transformed_cell` argument and any exception that happen during thetransform in `preprocessing_exc_tuple` in IPython 7.17 and above.\n",
            "  and should_run_async(code)\n"
          ]
        }
      ]
    },
    {
      "cell_type": "markdown",
      "source": [
        "##Membership Year"
      ],
      "metadata": {
        "id": "CHbpiWu-11sE"
      }
    },
    {
      "cell_type": "code",
      "source": [
        "df_temp['membership_year'] = df_temp['membership_date'].dt.year"
      ],
      "metadata": {
        "colab": {
          "base_uri": "https://localhost:8080/"
        },
        "id": "2FaS5P7Z11Dt",
        "outputId": "ee407f66-c68f-4d53-f879-d2d07355af77"
      },
      "execution_count": null,
      "outputs": [
        {
          "output_type": "stream",
          "name": "stderr",
          "text": [
            "/usr/local/lib/python3.10/dist-packages/ipykernel/ipkernel.py:283: DeprecationWarning: `should_run_async` will not call `transform_cell` automatically in the future. Please pass the result to `transformed_cell` argument and any exception that happen during thetransform in `preprocessing_exc_tuple` in IPython 7.17 and above.\n",
            "  and should_run_async(code)\n"
          ]
        }
      ]
    },
    {
      "cell_type": "markdown",
      "source": [
        "##Is Married"
      ],
      "metadata": {
        "id": "87J8hPB7thK2"
      }
    },
    {
      "cell_type": "code",
      "source": [
        "df_temp['is_married'] = df_temp['martial_status'].apply(lambda x: 1 if x.lower() == 'married' else 0)"
      ],
      "metadata": {
        "colab": {
          "base_uri": "https://localhost:8080/"
        },
        "id": "0EuCSqvxxfgS",
        "outputId": "34139e62-07be-4322-8bac-a41bc16fb54b"
      },
      "execution_count": null,
      "outputs": [
        {
          "output_type": "stream",
          "name": "stderr",
          "text": [
            "/usr/local/lib/python3.10/dist-packages/ipykernel/ipkernel.py:283: DeprecationWarning: `should_run_async` will not call `transform_cell` automatically in the future. Please pass the result to `transformed_cell` argument and any exception that happen during thetransform in `preprocessing_exc_tuple` in IPython 7.17 and above.\n",
            "  and should_run_async(code)\n"
          ]
        }
      ]
    },
    {
      "cell_type": "markdown",
      "source": [
        "##Import"
      ],
      "metadata": {
        "id": "I_1REluH7jNN"
      }
    },
    {
      "cell_type": "code",
      "source": [
        "from google.colab import drive\n",
        "drive.mount('/content/gdrive')\n",
        "df_temp.to_csv('/content/gdrive/MyDrive/DatasetFrame/Club Member Info/df_temp_fe.csv', index='False')\n",
        "\n",
        "from google.colab import files\n",
        "files.download('/content/gdrive/MyDrive/DatasetFrame/Club Member Info/df_temp_fe.csv')"
      ],
      "metadata": {
        "colab": {
          "base_uri": "https://localhost:8080/",
          "height": 89
        },
        "id": "ttjqhiCT7lfU",
        "outputId": "6c0ff829-ab41-4701-a117-b448a546e0d5"
      },
      "execution_count": null,
      "outputs": [
        {
          "output_type": "stream",
          "name": "stderr",
          "text": [
            "/usr/local/lib/python3.10/dist-packages/ipykernel/ipkernel.py:283: DeprecationWarning: `should_run_async` will not call `transform_cell` automatically in the future. Please pass the result to `transformed_cell` argument and any exception that happen during thetransform in `preprocessing_exc_tuple` in IPython 7.17 and above.\n",
            "  and should_run_async(code)\n"
          ]
        },
        {
          "output_type": "stream",
          "name": "stdout",
          "text": [
            "Drive already mounted at /content/gdrive; to attempt to forcibly remount, call drive.mount(\"/content/gdrive\", force_remount=True).\n"
          ]
        },
        {
          "output_type": "display_data",
          "data": {
            "text/plain": [
              "<IPython.core.display.Javascript object>"
            ],
            "application/javascript": [
              "\n",
              "    async function download(id, filename, size) {\n",
              "      if (!google.colab.kernel.accessAllowed) {\n",
              "        return;\n",
              "      }\n",
              "      const div = document.createElement('div');\n",
              "      const label = document.createElement('label');\n",
              "      label.textContent = `Downloading \"${filename}\": `;\n",
              "      div.appendChild(label);\n",
              "      const progress = document.createElement('progress');\n",
              "      progress.max = size;\n",
              "      div.appendChild(progress);\n",
              "      document.body.appendChild(div);\n",
              "\n",
              "      const buffers = [];\n",
              "      let downloaded = 0;\n",
              "\n",
              "      const channel = await google.colab.kernel.comms.open(id);\n",
              "      // Send a message to notify the kernel that we're ready.\n",
              "      channel.send({})\n",
              "\n",
              "      for await (const message of channel.messages) {\n",
              "        // Send a message to notify the kernel that we're ready.\n",
              "        channel.send({})\n",
              "        if (message.buffers) {\n",
              "          for (const buffer of message.buffers) {\n",
              "            buffers.push(buffer);\n",
              "            downloaded += buffer.byteLength;\n",
              "            progress.value = downloaded;\n",
              "          }\n",
              "        }\n",
              "      }\n",
              "      const blob = new Blob(buffers, {type: 'application/binary'});\n",
              "      const a = document.createElement('a');\n",
              "      a.href = window.URL.createObjectURL(blob);\n",
              "      a.download = filename;\n",
              "      div.appendChild(a);\n",
              "      a.click();\n",
              "      div.remove();\n",
              "    }\n",
              "  "
            ]
          },
          "metadata": {}
        },
        {
          "output_type": "display_data",
          "data": {
            "text/plain": [
              "<IPython.core.display.Javascript object>"
            ],
            "application/javascript": [
              "download(\"download_16038cf8-a0ae-4d35-86e0-e1eda025a04b\", \"df_temp_fe.csv\", 349261)"
            ]
          },
          "metadata": {}
        }
      ]
    }
  ],
  "metadata": {
    "colab": {
      "collapsed_sections": [
        "xqK3Ma1L3qkb",
        "29lN915D3_pc",
        "t_9d0JS0142t",
        "-uJsQY3R11mL",
        "AQJ8oLqc1Mex",
        "Av92Kxfl1WPU",
        "JOV_9gdLF_Cs",
        "7CtXhp3TR6KM",
        "NXBqeuslSFEe",
        "aWOMpKDBA9Nb",
        "8330ZaYMwPLG",
        "T1hntvJwzxQe",
        "rEdA1kreIwqO",
        "09751FJQ0FdW",
        "ChCRRgR_wGwy",
        "aOuxqTEK88PF",
        "hEjLFmkjRoaG",
        "LcOj57HQVfOG",
        "vCNovono6Mm-",
        "qjuLLYvkG7PP",
        "f-fMu4TOJK6C",
        "_k2MdXYpMwbh",
        "6kHezSwES5uh",
        "ejDbXliRQLtl",
        "N0MA6cK8QaEJ",
        "aTzQMwGcsv4H",
        "NCXQrEJ-syM_",
        "BH_ACi8Ds8HQ",
        "W-ZtO7uItVfV",
        "Ioh8ZFYKtZ0J",
        "CHbpiWu-11sE",
        "87J8hPB7thK2",
        "I_1REluH7jNN"
      ],
      "provenance": [],
      "toc_visible": true
    },
    "kernelspec": {
      "display_name": "Python 3",
      "name": "python3"
    },
    "language_info": {
      "name": "python"
    }
  },
  "nbformat": 4,
  "nbformat_minor": 0
}